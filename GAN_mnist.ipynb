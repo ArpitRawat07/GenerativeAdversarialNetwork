{
  "nbformat": 4,
  "nbformat_minor": 0,
  "metadata": {
    "colab": {
      "provenance": [],
      "gpuType": "T4",
      "include_colab_link": true
    },
    "kernelspec": {
      "name": "python3",
      "display_name": "Python 3"
    },
    "language_info": {
      "name": "python"
    },
    "accelerator": "GPU"
  },
  "cells": [
    {
      "cell_type": "markdown",
      "metadata": {
        "id": "view-in-github",
        "colab_type": "text"
      },
      "source": [
        "<a href=\"https://colab.research.google.com/github/ArpitRawat07/GenerativeAdversarialNetwork/blob/main/GAN_mnist.ipynb\" target=\"_parent\"><img src=\"https://colab.research.google.com/assets/colab-badge.svg\" alt=\"Open In Colab\"/></a>"
      ]
    },
    {
      "cell_type": "markdown",
      "source": [
        "# Generative Adversarial Network(GAN) for fashion generation using Fashion-mnist Dataset"
      ],
      "metadata": {
        "id": "Xbr0R6jq56T0"
      }
    },
    {
      "cell_type": "markdown",
      "source": [
        "## Importing Data and Dependencies"
      ],
      "metadata": {
        "id": "EyaCJqpH6fo2"
      }
    },
    {
      "cell_type": "code",
      "execution_count": 1,
      "metadata": {
        "id": "bK_FuY9IfaII"
      },
      "outputs": [],
      "source": [
        "# Importing dependencies\n",
        "import numpy as np\n",
        "from numpy import zeros, ones, asarray\n",
        "from numpy.random import randint, randn\n",
        "\n",
        "import cv2\n",
        "\n",
        "import matplotlib.pyplot as plt\n",
        "import os\n",
        "from os import listdir, makedirs\n",
        "from PIL import Image\n",
        "import warnings\n",
        "from tqdm.notebook import tqdm\n",
        "import random\n",
        "from glob import glob\n",
        "\n",
        "import tensorflow as tf\n",
        "from tensorflow import keras\n",
        "import tensorflow_datasets as tfds\n",
        "from tensorflow.keras.preprocessing.image import load_img, array_to_img\n",
        "from tensorflow.keras.models import Sequential, Model\n",
        "from tensorflow.keras import layers\n",
        "from tensorflow.keras.layers import Input, Conv2D, Dense, Flatten, Reshape, LeakyReLU, Dropout, UpSampling2D, Activation\n",
        "from tensorflow.keras.optimizers import Adam\n",
        "from tensorflow.keras.losses import BinaryCrossentropy\n",
        "from tensorflow.keras.callbacks import Callback\n",
        "from keras.utils import plot_model\n",
        "\n",
        "import shutil\n",
        "import zipfile"
      ]
    },
    {
      "cell_type": "code",
      "source": [
        "# Turning on mixed precision for gpu\n",
        "tf.keras.mixed_precision.set_global_policy('mixed_float16')\n",
        "tf.keras.mixed_precision.global_policy()"
      ],
      "metadata": {
        "colab": {
          "base_uri": "https://localhost:8080/"
        },
        "id": "nL6bdXJhh5xT",
        "outputId": "cfb87e91-3876-4679-c9a5-65d6251c3baf"
      },
      "execution_count": 2,
      "outputs": [
        {
          "output_type": "execute_result",
          "data": {
            "text/plain": [
              "<Policy \"mixed_float16\">"
            ]
          },
          "metadata": {},
          "execution_count": 2
        }
      ]
    },
    {
      "cell_type": "code",
      "source": [
        "(train_data, test_data), ds_info = tfds.load(name='mnist',\n",
        "                                             split=['train', 'test'],\n",
        "                                             shuffle_files=True,\n",
        "                                             as_supervised=True,\n",
        "                                             with_info=True)"
      ],
      "metadata": {
        "id": "Xaoso9qIlsaX"
      },
      "execution_count": 63,
      "outputs": []
    },
    {
      "cell_type": "code",
      "source": [
        "ds_info.features"
      ],
      "metadata": {
        "colab": {
          "base_uri": "https://localhost:8080/"
        },
        "id": "s-BaRYjdpwr5",
        "outputId": "8f0d512c-1594-465d-df94-d5a1278c4188"
      },
      "execution_count": 64,
      "outputs": [
        {
          "output_type": "execute_result",
          "data": {
            "text/plain": [
              "FeaturesDict({\n",
              "    'image': Image(shape=(28, 28, 1), dtype=uint8),\n",
              "    'label': ClassLabel(shape=(), dtype=int64, num_classes=10),\n",
              "})"
            ]
          },
          "metadata": {},
          "execution_count": 64
        }
      ]
    },
    {
      "cell_type": "code",
      "source": [
        "train_data"
      ],
      "metadata": {
        "colab": {
          "base_uri": "https://localhost:8080/"
        },
        "id": "OwKPziEfsU9z",
        "outputId": "0b04efb7-ccca-477a-ea82-050e278fe860"
      },
      "execution_count": 65,
      "outputs": [
        {
          "output_type": "execute_result",
          "data": {
            "text/plain": [
              "<_PrefetchDataset element_spec=(TensorSpec(shape=(28, 28, 1), dtype=tf.uint8, name=None), TensorSpec(shape=(), dtype=tf.int64, name=None))>"
            ]
          },
          "metadata": {},
          "execution_count": 65
        }
      ]
    },
    {
      "cell_type": "code",
      "source": [
        "class_names = ds_info.features['label'].names\n",
        "class_names"
      ],
      "metadata": {
        "colab": {
          "base_uri": "https://localhost:8080/"
        },
        "id": "UrtqqEahp8ir",
        "outputId": "b58ee770-fb1a-495c-e7fb-934f70d0805b"
      },
      "execution_count": 66,
      "outputs": [
        {
          "output_type": "execute_result",
          "data": {
            "text/plain": [
              "['0', '1', '2', '3', '4', '5', '6', '7', '8', '9']"
            ]
          },
          "metadata": {},
          "execution_count": 66
        }
      ]
    },
    {
      "cell_type": "code",
      "source": [
        "train_one_sample = train_data.take(1)\n",
        "train_one_sample"
      ],
      "metadata": {
        "colab": {
          "base_uri": "https://localhost:8080/"
        },
        "id": "u7H9WTrQsCdT",
        "outputId": "fbef2777-7e1b-4184-ce20-28b26e2fd1c7"
      },
      "execution_count": 67,
      "outputs": [
        {
          "output_type": "execute_result",
          "data": {
            "text/plain": [
              "<_TakeDataset element_spec=(TensorSpec(shape=(28, 28, 1), dtype=tf.uint8, name=None), TensorSpec(shape=(), dtype=tf.int64, name=None))>"
            ]
          },
          "metadata": {},
          "execution_count": 67
        }
      ]
    },
    {
      "cell_type": "code",
      "source": [
        "for img, label in train_one_sample:\n",
        "  print(f\"\"\"\n",
        "  Image shape: {img.shape}\n",
        "  Image_datatype: {img.dtype}\n",
        "  Target class from fashion_mnist: {label}\n",
        "  class_name: {class_names[label.numpy()]}\n",
        "        \"\"\")"
      ],
      "metadata": {
        "colab": {
          "base_uri": "https://localhost:8080/"
        },
        "id": "VHJrAOOyv-uc",
        "outputId": "3a6be634-7229-4273-b78a-040bec08189f"
      },
      "execution_count": 68,
      "outputs": [
        {
          "output_type": "stream",
          "name": "stdout",
          "text": [
            "\n",
            "  Image shape: (28, 28, 1)\n",
            "  Image_datatype: <dtype: 'uint8'>\n",
            "  Target class from fashion_mnist: 4\n",
            "  class_name: 4\n",
            "        \n"
          ]
        }
      ]
    },
    {
      "cell_type": "code",
      "source": [
        "img"
      ],
      "metadata": {
        "colab": {
          "base_uri": "https://localhost:8080/"
        },
        "id": "s1lKbj3HzuoL",
        "outputId": "9d853a65-e99e-4d0b-ea58-5672bbf98ca3"
      },
      "execution_count": 69,
      "outputs": [
        {
          "output_type": "execute_result",
          "data": {
            "text/plain": [
              "<tf.Tensor: shape=(28, 28, 1), dtype=uint8, numpy=\n",
              "array([[[  0],\n",
              "        [  0],\n",
              "        [  0],\n",
              "        [  0],\n",
              "        [  0],\n",
              "        [  0],\n",
              "        [  0],\n",
              "        [  0],\n",
              "        [  0],\n",
              "        [  0],\n",
              "        [  0],\n",
              "        [  0],\n",
              "        [  0],\n",
              "        [  0],\n",
              "        [  0],\n",
              "        [  0],\n",
              "        [  0],\n",
              "        [  0],\n",
              "        [  0],\n",
              "        [  0],\n",
              "        [  0],\n",
              "        [  0],\n",
              "        [  0],\n",
              "        [  0],\n",
              "        [  0],\n",
              "        [  0],\n",
              "        [  0],\n",
              "        [  0]],\n",
              "\n",
              "       [[  0],\n",
              "        [  0],\n",
              "        [  0],\n",
              "        [  0],\n",
              "        [  0],\n",
              "        [  0],\n",
              "        [  0],\n",
              "        [  0],\n",
              "        [  0],\n",
              "        [  0],\n",
              "        [  0],\n",
              "        [  0],\n",
              "        [  0],\n",
              "        [  0],\n",
              "        [  0],\n",
              "        [  0],\n",
              "        [  0],\n",
              "        [  0],\n",
              "        [  0],\n",
              "        [  0],\n",
              "        [  0],\n",
              "        [  0],\n",
              "        [  0],\n",
              "        [  0],\n",
              "        [  0],\n",
              "        [  0],\n",
              "        [  0],\n",
              "        [  0]],\n",
              "\n",
              "       [[  0],\n",
              "        [  0],\n",
              "        [  0],\n",
              "        [  0],\n",
              "        [  0],\n",
              "        [  0],\n",
              "        [  0],\n",
              "        [  0],\n",
              "        [  0],\n",
              "        [  0],\n",
              "        [  0],\n",
              "        [  0],\n",
              "        [  0],\n",
              "        [  0],\n",
              "        [  0],\n",
              "        [  0],\n",
              "        [  0],\n",
              "        [  0],\n",
              "        [  0],\n",
              "        [  0],\n",
              "        [  0],\n",
              "        [  0],\n",
              "        [  0],\n",
              "        [  0],\n",
              "        [  0],\n",
              "        [  0],\n",
              "        [  0],\n",
              "        [  0]],\n",
              "\n",
              "       [[  0],\n",
              "        [  0],\n",
              "        [  0],\n",
              "        [  0],\n",
              "        [  0],\n",
              "        [  0],\n",
              "        [  0],\n",
              "        [  0],\n",
              "        [  0],\n",
              "        [  0],\n",
              "        [  0],\n",
              "        [  0],\n",
              "        [  0],\n",
              "        [  0],\n",
              "        [  0],\n",
              "        [  0],\n",
              "        [  0],\n",
              "        [  0],\n",
              "        [  0],\n",
              "        [  0],\n",
              "        [  0],\n",
              "        [  0],\n",
              "        [  0],\n",
              "        [  0],\n",
              "        [  0],\n",
              "        [  0],\n",
              "        [  0],\n",
              "        [  0]],\n",
              "\n",
              "       [[  0],\n",
              "        [  0],\n",
              "        [  0],\n",
              "        [  0],\n",
              "        [  0],\n",
              "        [  0],\n",
              "        [  0],\n",
              "        [  0],\n",
              "        [  0],\n",
              "        [  0],\n",
              "        [  0],\n",
              "        [  0],\n",
              "        [  0],\n",
              "        [  0],\n",
              "        [  0],\n",
              "        [  0],\n",
              "        [  0],\n",
              "        [  0],\n",
              "        [  0],\n",
              "        [  0],\n",
              "        [  0],\n",
              "        [  0],\n",
              "        [  0],\n",
              "        [  0],\n",
              "        [  0],\n",
              "        [  0],\n",
              "        [  0],\n",
              "        [  0]],\n",
              "\n",
              "       [[  0],\n",
              "        [  0],\n",
              "        [  0],\n",
              "        [  0],\n",
              "        [  0],\n",
              "        [  0],\n",
              "        [  0],\n",
              "        [  0],\n",
              "        [  0],\n",
              "        [  0],\n",
              "        [  0],\n",
              "        [  0],\n",
              "        [  0],\n",
              "        [  0],\n",
              "        [  0],\n",
              "        [  0],\n",
              "        [  0],\n",
              "        [ 84],\n",
              "        [254],\n",
              "        [101],\n",
              "        [  0],\n",
              "        [  0],\n",
              "        [  0],\n",
              "        [  0],\n",
              "        [  0],\n",
              "        [  0],\n",
              "        [  0],\n",
              "        [  0]],\n",
              "\n",
              "       [[  0],\n",
              "        [  0],\n",
              "        [  0],\n",
              "        [  0],\n",
              "        [  0],\n",
              "        [  0],\n",
              "        [  0],\n",
              "        [  0],\n",
              "        [  0],\n",
              "        [  0],\n",
              "        [  0],\n",
              "        [  0],\n",
              "        [  0],\n",
              "        [  0],\n",
              "        [  0],\n",
              "        [  0],\n",
              "        [  0],\n",
              "        [174],\n",
              "        [253],\n",
              "        [119],\n",
              "        [  0],\n",
              "        [  0],\n",
              "        [  0],\n",
              "        [  0],\n",
              "        [  0],\n",
              "        [  0],\n",
              "        [  0],\n",
              "        [  0]],\n",
              "\n",
              "       [[  0],\n",
              "        [  0],\n",
              "        [  0],\n",
              "        [  0],\n",
              "        [  0],\n",
              "        [  0],\n",
              "        [  0],\n",
              "        [  0],\n",
              "        [  0],\n",
              "        [  0],\n",
              "        [  0],\n",
              "        [  0],\n",
              "        [  0],\n",
              "        [  0],\n",
              "        [  0],\n",
              "        [  0],\n",
              "        [ 31],\n",
              "        [247],\n",
              "        [202],\n",
              "        [ 29],\n",
              "        [  0],\n",
              "        [  0],\n",
              "        [  0],\n",
              "        [  0],\n",
              "        [  0],\n",
              "        [  0],\n",
              "        [  0],\n",
              "        [  0]],\n",
              "\n",
              "       [[  0],\n",
              "        [  0],\n",
              "        [  0],\n",
              "        [  0],\n",
              "        [  0],\n",
              "        [  0],\n",
              "        [  0],\n",
              "        [  0],\n",
              "        [  0],\n",
              "        [  1],\n",
              "        [  1],\n",
              "        [  0],\n",
              "        [  0],\n",
              "        [  0],\n",
              "        [  0],\n",
              "        [  0],\n",
              "        [141],\n",
              "        [253],\n",
              "        [168],\n",
              "        [  0],\n",
              "        [  0],\n",
              "        [  0],\n",
              "        [  0],\n",
              "        [  0],\n",
              "        [  0],\n",
              "        [  0],\n",
              "        [  0],\n",
              "        [  0]],\n",
              "\n",
              "       [[  0],\n",
              "        [  0],\n",
              "        [  0],\n",
              "        [  0],\n",
              "        [  0],\n",
              "        [  0],\n",
              "        [  0],\n",
              "        [  0],\n",
              "        [  0],\n",
              "        [ 66],\n",
              "        [208],\n",
              "        [ 56],\n",
              "        [  0],\n",
              "        [  0],\n",
              "        [  0],\n",
              "        [  0],\n",
              "        [186],\n",
              "        [253],\n",
              "        [120],\n",
              "        [  0],\n",
              "        [  0],\n",
              "        [  0],\n",
              "        [  0],\n",
              "        [  0],\n",
              "        [  0],\n",
              "        [  0],\n",
              "        [  0],\n",
              "        [  0]],\n",
              "\n",
              "       [[  0],\n",
              "        [  0],\n",
              "        [  0],\n",
              "        [  0],\n",
              "        [  0],\n",
              "        [  0],\n",
              "        [  0],\n",
              "        [  0],\n",
              "        [  0],\n",
              "        [ 57],\n",
              "        [253],\n",
              "        [119],\n",
              "        [  0],\n",
              "        [  0],\n",
              "        [  0],\n",
              "        [ 28],\n",
              "        [249],\n",
              "        [240],\n",
              "        [ 25],\n",
              "        [  0],\n",
              "        [  0],\n",
              "        [  0],\n",
              "        [  0],\n",
              "        [  0],\n",
              "        [  0],\n",
              "        [  0],\n",
              "        [  0],\n",
              "        [  0]],\n",
              "\n",
              "       [[  0],\n",
              "        [  0],\n",
              "        [  0],\n",
              "        [  0],\n",
              "        [  0],\n",
              "        [  0],\n",
              "        [  0],\n",
              "        [  0],\n",
              "        [  0],\n",
              "        [ 34],\n",
              "        [253],\n",
              "        [119],\n",
              "        [  0],\n",
              "        [  0],\n",
              "        [  0],\n",
              "        [109],\n",
              "        [254],\n",
              "        [197],\n",
              "        [  0],\n",
              "        [  0],\n",
              "        [  0],\n",
              "        [  0],\n",
              "        [  0],\n",
              "        [  0],\n",
              "        [  0],\n",
              "        [  0],\n",
              "        [  0],\n",
              "        [  0]],\n",
              "\n",
              "       [[  0],\n",
              "        [  0],\n",
              "        [  0],\n",
              "        [  0],\n",
              "        [  0],\n",
              "        [  0],\n",
              "        [  0],\n",
              "        [  0],\n",
              "        [  0],\n",
              "        [ 53],\n",
              "        [253],\n",
              "        [119],\n",
              "        [  0],\n",
              "        [  0],\n",
              "        [  0],\n",
              "        [135],\n",
              "        [254],\n",
              "        [133],\n",
              "        [  0],\n",
              "        [  0],\n",
              "        [  0],\n",
              "        [  0],\n",
              "        [  0],\n",
              "        [  0],\n",
              "        [  0],\n",
              "        [  0],\n",
              "        [  0],\n",
              "        [  0]],\n",
              "\n",
              "       [[  0],\n",
              "        [  0],\n",
              "        [  0],\n",
              "        [  0],\n",
              "        [  0],\n",
              "        [  0],\n",
              "        [  0],\n",
              "        [  0],\n",
              "        [  0],\n",
              "        [133],\n",
              "        [254],\n",
              "        [119],\n",
              "        [  0],\n",
              "        [  0],\n",
              "        [ 27],\n",
              "        [240],\n",
              "        [255],\n",
              "        [ 35],\n",
              "        [  0],\n",
              "        [  0],\n",
              "        [  0],\n",
              "        [  0],\n",
              "        [  0],\n",
              "        [  0],\n",
              "        [  0],\n",
              "        [  0],\n",
              "        [  0],\n",
              "        [  0]],\n",
              "\n",
              "       [[  0],\n",
              "        [  0],\n",
              "        [  0],\n",
              "        [  0],\n",
              "        [  0],\n",
              "        [  0],\n",
              "        [  0],\n",
              "        [  0],\n",
              "        [  7],\n",
              "        [235],\n",
              "        [253],\n",
              "        [208],\n",
              "        [151],\n",
              "        [169],\n",
              "        [215],\n",
              "        [253],\n",
              "        [206],\n",
              "        [  2],\n",
              "        [  0],\n",
              "        [  0],\n",
              "        [  0],\n",
              "        [  0],\n",
              "        [  0],\n",
              "        [  0],\n",
              "        [  0],\n",
              "        [  0],\n",
              "        [  0],\n",
              "        [  0]],\n",
              "\n",
              "       [[  0],\n",
              "        [  0],\n",
              "        [  0],\n",
              "        [  0],\n",
              "        [  0],\n",
              "        [  0],\n",
              "        [  0],\n",
              "        [  0],\n",
              "        [ 97],\n",
              "        [253],\n",
              "        [253],\n",
              "        [253],\n",
              "        [254],\n",
              "        [253],\n",
              "        [253],\n",
              "        [253],\n",
              "        [ 86],\n",
              "        [  0],\n",
              "        [  0],\n",
              "        [  0],\n",
              "        [  0],\n",
              "        [  0],\n",
              "        [  0],\n",
              "        [  0],\n",
              "        [  0],\n",
              "        [  0],\n",
              "        [  0],\n",
              "        [  0]],\n",
              "\n",
              "       [[  0],\n",
              "        [  0],\n",
              "        [  0],\n",
              "        [  0],\n",
              "        [  0],\n",
              "        [  0],\n",
              "        [  0],\n",
              "        [  0],\n",
              "        [150],\n",
              "        [244],\n",
              "        [145],\n",
              "        [119],\n",
              "        [101],\n",
              "        [ 82],\n",
              "        [253],\n",
              "        [253],\n",
              "        [ 14],\n",
              "        [  0],\n",
              "        [  0],\n",
              "        [  0],\n",
              "        [  0],\n",
              "        [  0],\n",
              "        [  0],\n",
              "        [  0],\n",
              "        [  0],\n",
              "        [  0],\n",
              "        [  0],\n",
              "        [  0]],\n",
              "\n",
              "       [[  0],\n",
              "        [  0],\n",
              "        [  0],\n",
              "        [  0],\n",
              "        [  0],\n",
              "        [  0],\n",
              "        [  0],\n",
              "        [  0],\n",
              "        [  0],\n",
              "        [  0],\n",
              "        [  0],\n",
              "        [  0],\n",
              "        [  0],\n",
              "        [ 84],\n",
              "        [254],\n",
              "        [172],\n",
              "        [  0],\n",
              "        [  0],\n",
              "        [  0],\n",
              "        [  0],\n",
              "        [  0],\n",
              "        [  0],\n",
              "        [  0],\n",
              "        [  0],\n",
              "        [  0],\n",
              "        [  0],\n",
              "        [  0],\n",
              "        [  0]],\n",
              "\n",
              "       [[  0],\n",
              "        [  0],\n",
              "        [  0],\n",
              "        [  0],\n",
              "        [  0],\n",
              "        [  0],\n",
              "        [  0],\n",
              "        [  0],\n",
              "        [  0],\n",
              "        [  0],\n",
              "        [  0],\n",
              "        [  0],\n",
              "        [  0],\n",
              "        [174],\n",
              "        [253],\n",
              "        [119],\n",
              "        [  0],\n",
              "        [  0],\n",
              "        [  0],\n",
              "        [  0],\n",
              "        [  0],\n",
              "        [  0],\n",
              "        [  0],\n",
              "        [  0],\n",
              "        [  0],\n",
              "        [  0],\n",
              "        [  0],\n",
              "        [  0]],\n",
              "\n",
              "       [[  0],\n",
              "        [  0],\n",
              "        [  0],\n",
              "        [  0],\n",
              "        [  0],\n",
              "        [  0],\n",
              "        [  0],\n",
              "        [  0],\n",
              "        [  0],\n",
              "        [  0],\n",
              "        [  0],\n",
              "        [  0],\n",
              "        [  0],\n",
              "        [237],\n",
              "        [252],\n",
              "        [ 56],\n",
              "        [  0],\n",
              "        [  0],\n",
              "        [  0],\n",
              "        [  0],\n",
              "        [  0],\n",
              "        [  0],\n",
              "        [  0],\n",
              "        [  0],\n",
              "        [  0],\n",
              "        [  0],\n",
              "        [  0],\n",
              "        [  0]],\n",
              "\n",
              "       [[  0],\n",
              "        [  0],\n",
              "        [  0],\n",
              "        [  0],\n",
              "        [  0],\n",
              "        [  0],\n",
              "        [  0],\n",
              "        [  0],\n",
              "        [  0],\n",
              "        [  0],\n",
              "        [  0],\n",
              "        [  0],\n",
              "        [ 50],\n",
              "        [241],\n",
              "        [182],\n",
              "        [  0],\n",
              "        [  0],\n",
              "        [  0],\n",
              "        [  0],\n",
              "        [  0],\n",
              "        [  0],\n",
              "        [  0],\n",
              "        [  0],\n",
              "        [  0],\n",
              "        [  0],\n",
              "        [  0],\n",
              "        [  0],\n",
              "        [  0]],\n",
              "\n",
              "       [[  0],\n",
              "        [  0],\n",
              "        [  0],\n",
              "        [  0],\n",
              "        [  0],\n",
              "        [  0],\n",
              "        [  0],\n",
              "        [  0],\n",
              "        [  0],\n",
              "        [  0],\n",
              "        [  0],\n",
              "        [  0],\n",
              "        [187],\n",
              "        [254],\n",
              "        [249],\n",
              "        [105],\n",
              "        [  0],\n",
              "        [  0],\n",
              "        [  0],\n",
              "        [  0],\n",
              "        [  0],\n",
              "        [  0],\n",
              "        [  0],\n",
              "        [  0],\n",
              "        [  0],\n",
              "        [  0],\n",
              "        [  0],\n",
              "        [  0]],\n",
              "\n",
              "       [[  0],\n",
              "        [  0],\n",
              "        [  0],\n",
              "        [  0],\n",
              "        [  0],\n",
              "        [  0],\n",
              "        [  0],\n",
              "        [  0],\n",
              "        [  0],\n",
              "        [  0],\n",
              "        [  0],\n",
              "        [  0],\n",
              "        [186],\n",
              "        [253],\n",
              "        [206],\n",
              "        [ 21],\n",
              "        [  0],\n",
              "        [  0],\n",
              "        [  0],\n",
              "        [  0],\n",
              "        [  0],\n",
              "        [  0],\n",
              "        [  0],\n",
              "        [  0],\n",
              "        [  0],\n",
              "        [  0],\n",
              "        [  0],\n",
              "        [  0]],\n",
              "\n",
              "       [[  0],\n",
              "        [  0],\n",
              "        [  0],\n",
              "        [  0],\n",
              "        [  0],\n",
              "        [  0],\n",
              "        [  0],\n",
              "        [  0],\n",
              "        [  0],\n",
              "        [  0],\n",
              "        [  0],\n",
              "        [  0],\n",
              "        [227],\n",
              "        [242],\n",
              "        [ 32],\n",
              "        [  0],\n",
              "        [  0],\n",
              "        [  0],\n",
              "        [  0],\n",
              "        [  0],\n",
              "        [  0],\n",
              "        [  0],\n",
              "        [  0],\n",
              "        [  0],\n",
              "        [  0],\n",
              "        [  0],\n",
              "        [  0],\n",
              "        [  0]],\n",
              "\n",
              "       [[  0],\n",
              "        [  0],\n",
              "        [  0],\n",
              "        [  0],\n",
              "        [  0],\n",
              "        [  0],\n",
              "        [  0],\n",
              "        [  0],\n",
              "        [  0],\n",
              "        [  0],\n",
              "        [  0],\n",
              "        [  0],\n",
              "        [236],\n",
              "        [219],\n",
              "        [  0],\n",
              "        [  0],\n",
              "        [  0],\n",
              "        [  0],\n",
              "        [  0],\n",
              "        [  0],\n",
              "        [  0],\n",
              "        [  0],\n",
              "        [  0],\n",
              "        [  0],\n",
              "        [  0],\n",
              "        [  0],\n",
              "        [  0],\n",
              "        [  0]],\n",
              "\n",
              "       [[  0],\n",
              "        [  0],\n",
              "        [  0],\n",
              "        [  0],\n",
              "        [  0],\n",
              "        [  0],\n",
              "        [  0],\n",
              "        [  0],\n",
              "        [  0],\n",
              "        [  0],\n",
              "        [  0],\n",
              "        [  0],\n",
              "        [  0],\n",
              "        [  0],\n",
              "        [  0],\n",
              "        [  0],\n",
              "        [  0],\n",
              "        [  0],\n",
              "        [  0],\n",
              "        [  0],\n",
              "        [  0],\n",
              "        [  0],\n",
              "        [  0],\n",
              "        [  0],\n",
              "        [  0],\n",
              "        [  0],\n",
              "        [  0],\n",
              "        [  0]],\n",
              "\n",
              "       [[  0],\n",
              "        [  0],\n",
              "        [  0],\n",
              "        [  0],\n",
              "        [  0],\n",
              "        [  0],\n",
              "        [  0],\n",
              "        [  0],\n",
              "        [  0],\n",
              "        [  0],\n",
              "        [  0],\n",
              "        [  0],\n",
              "        [  0],\n",
              "        [  0],\n",
              "        [  0],\n",
              "        [  0],\n",
              "        [  0],\n",
              "        [  0],\n",
              "        [  0],\n",
              "        [  0],\n",
              "        [  0],\n",
              "        [  0],\n",
              "        [  0],\n",
              "        [  0],\n",
              "        [  0],\n",
              "        [  0],\n",
              "        [  0],\n",
              "        [  0]],\n",
              "\n",
              "       [[  0],\n",
              "        [  0],\n",
              "        [  0],\n",
              "        [  0],\n",
              "        [  0],\n",
              "        [  0],\n",
              "        [  0],\n",
              "        [  0],\n",
              "        [  0],\n",
              "        [  0],\n",
              "        [  0],\n",
              "        [  0],\n",
              "        [  0],\n",
              "        [  0],\n",
              "        [  0],\n",
              "        [  0],\n",
              "        [  0],\n",
              "        [  0],\n",
              "        [  0],\n",
              "        [  0],\n",
              "        [  0],\n",
              "        [  0],\n",
              "        [  0],\n",
              "        [  0],\n",
              "        [  0],\n",
              "        [  0],\n",
              "        [  0],\n",
              "        [  0]]], dtype=uint8)>"
            ]
          },
          "metadata": {},
          "execution_count": 69
        }
      ]
    },
    {
      "cell_type": "code",
      "source": [
        "# Finding the minimum and the maximum values in the image\n",
        "tf.reduce_min(img), tf.reduce_max(img)"
      ],
      "metadata": {
        "colab": {
          "base_uri": "https://localhost:8080/"
        },
        "id": "cbl4Lgd3xnOf",
        "outputId": "b893278b-d835-4321-ce73-508125ac4c59"
      },
      "execution_count": 70,
      "outputs": [
        {
          "output_type": "execute_result",
          "data": {
            "text/plain": [
              "(<tf.Tensor: shape=(), dtype=uint8, numpy=0>,\n",
              " <tf.Tensor: shape=(), dtype=uint8, numpy=255>)"
            ]
          },
          "metadata": {},
          "execution_count": 70
        }
      ]
    },
    {
      "cell_type": "code",
      "source": [
        "# Plotting the image\n",
        "plt.imshow(img)\n",
        "plt.title(class_names[label.numpy()])\n",
        "plt.axis(False)"
      ],
      "metadata": {
        "colab": {
          "base_uri": "https://localhost:8080/",
          "height": 445
        },
        "id": "4PFrnOtezdv9",
        "outputId": "992e1b29-4091-4efe-93c2-2e43ccd8e492"
      },
      "execution_count": 71,
      "outputs": [
        {
          "output_type": "execute_result",
          "data": {
            "text/plain": [
              "(-0.5, 27.5, 27.5, -0.5)"
            ]
          },
          "metadata": {},
          "execution_count": 71
        },
        {
          "output_type": "display_data",
          "data": {
            "text/plain": [
              "<Figure size 640x480 with 1 Axes>"
            ],
            "image/png": "[encoded data removed]"
          },
          "metadata": {}
        }
      ]
    },
    {
      "cell_type": "code",
      "source": [
        "def preprocess_img(image, label, img_shape=28):\n",
        "  \"\"\"\n",
        "  Takes images and labels\n",
        "  Converts the image from 'uint8' to 'float32' and rescaling the image values to 0-1.\n",
        "  Returns just the images\n",
        "  \"\"\"\n",
        "  image = tf.cast(image, tf.float32)\n",
        "  return image/255."
      ],
      "metadata": {
        "id": "nSF6-dpw0g8K"
      },
      "execution_count": 72,
      "outputs": []
    },
    {
      "cell_type": "code",
      "source": [
        "# Preprocessing the train dataset\n",
        "train_data = train_data.map(map_func=preprocess_img, num_parallel_calls=tf.data.AUTOTUNE)\n",
        "\n",
        "# Shuffling the train dataset, making batches of 128 and prefetch(loading the dataset faster)\n",
        "train_data = train_data.shuffle(buffer_size=6000).batch(batch_size=128).prefetch(buffer_size=tf.data.AUTOTUNE)\n",
        "\n",
        "# Preprocessing the test dataset\n",
        "test_data = test_data.map(map_func=preprocess_img, num_parallel_calls=tf.data.AUTOTUNE)\n",
        "\n",
        "# Shuffling the test dataset, making batches of 128 and prefetch(loading the dataset faster)\n",
        "test_data = test_data.shuffle(buffer_size=1000).batch(batch_size=128).prefetch(buffer_size=tf.data.AUTOTUNE)\n"
      ],
      "metadata": {
        "id": "asqCotlQ17-o"
      },
      "execution_count": 73,
      "outputs": []
    },
    {
      "cell_type": "markdown",
      "source": [
        "### Till here we have preprocessed our images and removed the labels from the dataset. Now, let's see some random images."
      ],
      "metadata": {
        "id": "4LGOVYLIDVcL"
      }
    },
    {
      "cell_type": "code",
      "source": [
        "train_data"
      ],
      "metadata": {
        "colab": {
          "base_uri": "https://localhost:8080/"
        },
        "id": "lWAWRahR2Fba",
        "outputId": "e754426e-f5ff-491a-e2a9-f3e5a982ebf0"
      },
      "execution_count": 74,
      "outputs": [
        {
          "output_type": "execute_result",
          "data": {
            "text/plain": [
              "<_PrefetchDataset element_spec=TensorSpec(shape=(None, 28, 28, 1), dtype=tf.float32, name=None)>"
            ]
          },
          "metadata": {},
          "execution_count": 74
        }
      ]
    },
    {
      "cell_type": "code",
      "source": [
        "# plotting some random images\n",
        "random_imgs = train_data.take(1)\n",
        "fig, ax = plt.subplots(nrows=1, ncols=4, figsize=(8, 8))\n",
        "for batch in random_imgs:\n",
        "  for j, img in enumerate(batch[:4]):\n",
        "    ax[j].imshow(img)\n",
        "    ax[j].axis(False)"
      ],
      "metadata": {
        "colab": {
          "base_uri": "https://localhost:8080/",
          "height": 168
        },
        "id": "Vq4Xy19qDxbv",
        "outputId": "2f0428b4-58c5-415b-8135-8a81530ceb3b"
      },
      "execution_count": 75,
      "outputs": [
        {
          "output_type": "display_data",
          "data": {
            "text/plain": [
              "<Figure size 800x800 with 4 Axes>"
            ],
            "image/png": "[encoded data removed]"
          },
          "metadata": {}
        }
      ]
    },
    {
      "cell_type": "markdown",
      "source": [
        "## Building Generator"
      ],
      "metadata": {
        "id": "Kie0VDw9Me_N"
      }
    },
    {
      "cell_type": "code",
      "source": [
        "# Generator\n",
        "def generator():\n",
        "\n",
        "  # Taking input noise\n",
        "  input_noise = Input(shape = (128, ), name = \"Input_Layer\")\n",
        "\n",
        "  # Reshaping to 3D tensor\n",
        "  x = Dense(7*7*128)(input_noise)\n",
        "  x = LeakyReLU(0.2)(x)\n",
        "  x = Reshape((7, 7, 128))(x)\n",
        "\n",
        "  # Upsampling block 1\n",
        "  x = UpSampling2D()(x)\n",
        "  x = Conv2D(128, 5, padding = 'same')(x)\n",
        "  x = LeakyReLU(0.2)(x)\n",
        "\n",
        "  # Upsampling block 2\n",
        "  x = UpSampling2D()(x)\n",
        "  x = Conv2D(128, 5, padding = 'same')(x)\n",
        "  x = LeakyReLU(0.2)(x)\n",
        "\n",
        "  # Convolutional block 1\n",
        "  x = Conv2D(128, 4, padding = 'same')(x)\n",
        "  x = LeakyReLU(0.2)(x)\n",
        "\n",
        "  # Convolutional block 2\n",
        "  x = Conv2D(128, 4, padding = 'same')(x)\n",
        "  x = LeakyReLU(0.2)(x)\n",
        "\n",
        "  # Output Layer\n",
        "  x = Conv2D(1, 4, padding = 'same')(x)\n",
        "  generated_img = Activation('sigmoid', dtype = tf.float32, name = 'generator_sigmoid_float32')(x)\n",
        "\n",
        "  # Model\n",
        "  model = Model(inputs = input_noise, outputs = generated_img, name = \"Generator_Model\")\n",
        "\n",
        "  return model"
      ],
      "metadata": {
        "id": "7DtbOdIqGiW9"
      },
      "execution_count": 76,
      "outputs": []
    },
    {
      "cell_type": "code",
      "source": [
        "# Create generator object\n",
        "generator = generator()\n",
        "generator.summary()"
      ],
      "metadata": {
        "colab": {
          "base_uri": "https://localhost:8080/"
        },
        "id": "d2u3ix0UYeJr",
        "outputId": "4558b429-5393-4718-814c-0530eff4de24"
      },
      "execution_count": 77,
      "outputs": [
        {
          "output_type": "stream",
          "name": "stdout",
          "text": [
            "Model: \"Generator_Model\"\n",
            "_________________________________________________________________\n",
            " Layer (type)                Output Shape              Param #   \n",
            "=================================================================\n",
            " Input_Layer (InputLayer)    [(None, 128)]             0         \n",
            "                                                                 \n",
            " dense_2 (Dense)             (None, 6272)              809088    \n",
            "                                                                 \n",
            " leaky_re_lu_9 (LeakyReLU)   (None, 6272)              0         \n",
            "                                                                 \n",
            " reshape_1 (Reshape)         (None, 7, 7, 128)         0         \n",
            "                                                                 \n",
            " up_sampling2d_2 (UpSamplin  (None, 14, 14, 128)       0         \n",
            " g2D)                                                            \n",
            "                                                                 \n",
            " conv2d_9 (Conv2D)           (None, 14, 14, 128)       409728    \n",
            "                                                                 \n",
            " leaky_re_lu_10 (LeakyReLU)  (None, 14, 14, 128)       0         \n",
            "                                                                 \n",
            " up_sampling2d_3 (UpSamplin  (None, 28, 28, 128)       0         \n",
            " g2D)                                                            \n",
            "                                                                 \n",
            " conv2d_10 (Conv2D)          (None, 28, 28, 128)       409728    \n",
            "                                                                 \n",
            " leaky_re_lu_11 (LeakyReLU)  (None, 28, 28, 128)       0         \n",
            "                                                                 \n",
            " conv2d_11 (Conv2D)          (None, 28, 28, 128)       262272    \n",
            "                                                                 \n",
            " leaky_re_lu_12 (LeakyReLU)  (None, 28, 28, 128)       0         \n",
            "                                                                 \n",
            " conv2d_12 (Conv2D)          (None, 28, 28, 128)       262272    \n",
            "                                                                 \n",
            " leaky_re_lu_13 (LeakyReLU)  (None, 28, 28, 128)       0         \n",
            "                                                                 \n",
            " conv2d_13 (Conv2D)          (None, 28, 28, 1)         2049      \n",
            "                                                                 \n",
            " generator_sigmoid_float32   (None, 28, 28, 1)         0         \n",
            " (Activation)                                                    \n",
            "                                                                 \n",
            "=================================================================\n",
            "Total params: 2155137 (8.22 MB)\n",
            "Trainable params: 2155137 (8.22 MB)\n",
            "Non-trainable params: 0 (0.00 Byte)\n",
            "_________________________________________________________________\n"
          ]
        }
      ]
    },
    {
      "cell_type": "code",
      "source": [
        "# generating random noise [4 images of 128 input noise vector and 1 color channel]\n",
        "imgs = generator.predict(randn(4, 128, 1))\n",
        "fig, ax = plt.subplots(1, 4, figsize=(8, 8))\n",
        "for j, img in enumerate(imgs):\n",
        "  ax[j].imshow(img)\n",
        "  ax[j].axis(False)"
      ],
      "metadata": {
        "colab": {
          "base_uri": "https://localhost:8080/",
          "height": 186
        },
        "id": "IkVG4-KHYtbi",
        "outputId": "d6222540-b435-489f-fa95-559180abd946"
      },
      "execution_count": 78,
      "outputs": [
        {
          "output_type": "stream",
          "name": "stdout",
          "text": [
            "1/1 [==============================] - 0s 139ms/step\n"
          ]
        },
        {
          "output_type": "display_data",
          "data": {
            "text/plain": [
              "<Figure size 800x800 with 4 Axes>"
            ],
            "image/png": "[encoded data removed]"
          },
          "metadata": {}
        }
      ]
    },
    {
      "cell_type": "markdown",
      "source": [
        "### Great!!! Image successfully generated.\n",
        " We are able to generate random fashion images. It's just that they are all full of noise. We can improve the performance of our generator using a discriminator. Let's build one."
      ],
      "metadata": {
        "id": "2blGG8GDd_K1"
      }
    },
    {
      "cell_type": "markdown",
      "source": [
        "## Building Discriminator"
      ],
      "metadata": {
        "id": "SvbFPt7XfKCR"
      }
    },
    {
      "cell_type": "code",
      "source": [
        "def discriminator():\n",
        "\n",
        "  # Taking an image as input\n",
        "  input_img = Input(shape = (28, 28, 1), name = \"Input_Layer\")\n",
        "\n",
        "  # Convolutional block 1\n",
        "  x = Conv2D(32, 5)(input_img)\n",
        "  x = LeakyReLU(0.2)(x)\n",
        "  x = Dropout(0.4)(x)\n",
        "\n",
        "  # Convolutional block 2\n",
        "  x = Conv2D(64, 5)(x)\n",
        "  x = LeakyReLU(0.2)(x)\n",
        "  x = Dropout(0.4)(x)\n",
        "\n",
        "  # Convolutional block 3\n",
        "  x = Conv2D(128, 5)(x)\n",
        "  x = LeakyReLU(0.2)(x)\n",
        "  x = Dropout(0.4)(x)\n",
        "\n",
        "  # Convolutional block 4\n",
        "  x = Conv2D(256, 5)(x)\n",
        "  x = LeakyReLU(0.2)(x)\n",
        "  x = Dropout(0.4)(x)\n",
        "\n",
        "  # Flatten Layer\n",
        "  x = Flatten()(x)\n",
        "  x = Dropout(0.4)(x)\n",
        "\n",
        "  # Output Layer\n",
        "  x = Dense(1)(x)\n",
        "  output = Activation(\"sigmoid\", dtype = tf.float32, name = \"discriminator_sigmoid_float32\")(x)\n",
        "\n",
        "  # Model\n",
        "  model = Model(inputs = input_img, outputs = output, name = \"Discriminator_Model\")\n",
        "\n",
        "  return model"
      ],
      "metadata": {
        "id": "GHFTIE33b7xP"
      },
      "execution_count": 79,
      "outputs": []
    },
    {
      "cell_type": "code",
      "source": [
        "# Creating discriminator object\n",
        "discriminator = discriminator()\n",
        "discriminator.summary()"
      ],
      "metadata": {
        "colab": {
          "base_uri": "https://localhost:8080/"
        },
        "id": "98ZbjxqIih3B",
        "outputId": "81484d60-3a0a-4275-e801-1472c9dd482d"
      },
      "execution_count": 80,
      "outputs": [
        {
          "output_type": "stream",
          "name": "stdout",
          "text": [
            "Model: \"Discriminator_Model\"\n",
            "_________________________________________________________________\n",
            " Layer (type)                Output Shape              Param #   \n",
            "=================================================================\n",
            " Input_Layer (InputLayer)    [(None, 28, 28, 1)]       0         \n",
            "                                                                 \n",
            " conv2d_14 (Conv2D)          (None, 24, 24, 32)        832       \n",
            "                                                                 \n",
            " leaky_re_lu_14 (LeakyReLU)  (None, 24, 24, 32)        0         \n",
            "                                                                 \n",
            " dropout_5 (Dropout)         (None, 24, 24, 32)        0         \n",
            "                                                                 \n",
            " conv2d_15 (Conv2D)          (None, 20, 20, 64)        51264     \n",
            "                                                                 \n",
            " leaky_re_lu_15 (LeakyReLU)  (None, 20, 20, 64)        0         \n",
            "                                                                 \n",
            " dropout_6 (Dropout)         (None, 20, 20, 64)        0         \n",
            "                                                                 \n",
            " conv2d_16 (Conv2D)          (None, 16, 16, 128)       204928    \n",
            "                                                                 \n",
            " leaky_re_lu_16 (LeakyReLU)  (None, 16, 16, 128)       0         \n",
            "                                                                 \n",
            " dropout_7 (Dropout)         (None, 16, 16, 128)       0         \n",
            "                                                                 \n",
            " conv2d_17 (Conv2D)          (None, 12, 12, 256)       819456    \n",
            "                                                                 \n",
            " leaky_re_lu_17 (LeakyReLU)  (None, 12, 12, 256)       0         \n",
            "                                                                 \n",
            " dropout_8 (Dropout)         (None, 12, 12, 256)       0         \n",
            "                                                                 \n",
            " flatten_1 (Flatten)         (None, 36864)             0         \n",
            "                                                                 \n",
            " dropout_9 (Dropout)         (None, 36864)             0         \n",
            "                                                                 \n",
            " dense_3 (Dense)             (None, 1)                 36865     \n",
            "                                                                 \n",
            " discriminator_sigmoid_floa  (None, 1)                 0         \n",
            " t32 (Activation)                                                \n",
            "                                                                 \n",
            "=================================================================\n",
            "Total params: 1113345 (4.25 MB)\n",
            "Trainable params: 1113345 (4.25 MB)\n",
            "Non-trainable params: 0 (0.00 Byte)\n",
            "_________________________________________________________________\n"
          ]
        }
      ]
    },
    {
      "cell_type": "code",
      "source": [
        "discriminator.predict(tf.expand_dims(img, axis=0))"
      ],
      "metadata": {
        "colab": {
          "base_uri": "https://localhost:8080/"
        },
        "id": "mbjDyWRB7feD",
        "outputId": "61174613-4ac2-4196-810c-03b0bd858218"
      },
      "execution_count": 81,
      "outputs": [
        {
          "output_type": "stream",
          "name": "stdout",
          "text": [
            "1/1 [==============================] - 0s 101ms/step\n"
          ]
        },
        {
          "output_type": "execute_result",
          "data": {
            "text/plain": [
              "array([[0.5053442]], dtype=float32)"
            ]
          },
          "metadata": {},
          "execution_count": 81
        }
      ]
    },
    {
      "cell_type": "markdown",
      "source": [
        "### So, the discriminator predicted an image generated by the generator.\n",
        "With a prediction of approximately 0.516, the model is assigning a probability of around 51.6% to the input image being a fake sample.\n",
        "\n",
        "This indicates that the model is not so sure of the image of being a real/fake sample.\n",
        "\n",
        "This is due as it's incomplete training.\n",
        "So, Let's train the models."
      ],
      "metadata": {
        "id": "BgcovLnQ9x8d"
      }
    },
    {
      "cell_type": "markdown",
      "source": [
        "## Training GAN"
      ],
      "metadata": {
        "id": "ML7VDBbL-6ot"
      }
    },
    {
      "cell_type": "markdown",
      "source": [
        "### Setting up losses and optimizers."
      ],
      "metadata": {
        "id": "Z4Cr8ljQ_E1a"
      }
    },
    {
      "cell_type": "code",
      "source": [
        "# Optimizers and loss functions\n",
        "generator_optimizer = Adam(learning_rate = 0.0001)\n",
        "discriminator_optimizer = Adam(learning_rate = 0.0001)\n",
        "\n",
        "generator_loss = BinaryCrossentropy()\n",
        "discriminator_loss = BinaryCrossentropy()"
      ],
      "metadata": {
        "id": "Ws5S09SX8MIq"
      },
      "execution_count": 82,
      "outputs": []
    },
    {
      "cell_type": "code",
      "source": [
        "# Inheriting additional functionalities from Model class in keras\n",
        "class GAN(Model):\n",
        "  def __init__(self, generator, discriminator, *args, **kwargs):\n",
        "    # Passing arguments to the base class\n",
        "    super().__init__(*args, **kwargs)\n",
        "    self.generator = generator\n",
        "    self.discriminator = discriminator\n",
        "\n",
        "  def compile(self, generator_optimizer, discriminator_optimizer, generator_loss, discriminator_loss, *args, **kwargs):\n",
        "    # Compiling the model with the base class\n",
        "    super().compile(*args, **kwargs)\n",
        "\n",
        "    # Create attributes for losses and optimizers\n",
        "    self.generator_optimizer = generator_optimizer\n",
        "    self.generator_loss = generator_loss\n",
        "    self.discriminator_optimizer = discriminator_optimizer\n",
        "    self.discriminator_loss = discriminator_loss\n",
        "\n",
        "  def call(self, inputs, training = False, *args, **kwargs):\n",
        "    # Call method for generating images during inference\n",
        "    generated_imgs = self.generator(tf.random.normal((1,128)), training)\n",
        "    return generated_imgs\n",
        "\n",
        "  def train_step(self, batch):\n",
        "    # Getting real data from dataset and generating fake images from generator[128- batch_size, 128-input_noise_vector, 1-color_channel]\n",
        "    real_images = batch\n",
        "    fake_images = self.generator(tf.random.normal((128, 128, 1)), training = False)\n",
        "\n",
        "    # Training the discriminator\n",
        "    with tf.GradientTape() as discriminator_tape:\n",
        "      # Passing the real and the fake images to the discriminator\n",
        "      y_pred_real = self.discriminator(real_images, training = True)\n",
        "      y_pred_fake = self.discriminator(fake_images, training = True)\n",
        "      y_pred_real_fake = tf.concat([y_pred_real, y_pred_fake], axis = 0)\n",
        "\n",
        "      # Creating true labels(1 -> real images and 0 -> fake images)\n",
        "      y_real_fake = tf.concat([tf.zeros_like(y_pred_real), tf.ones_like(y_pred_fake)], axis = 0)\n",
        "\n",
        "      # Adding some noise to the true labels\n",
        "      noise_real = 0.15 * tf.random.uniform(tf.shape(y_pred_real), dtype = tf.float32)\n",
        "      noise_fake = - 0.15 * tf.random.uniform(tf.shape(y_pred_fake), dtype = tf.float32)\n",
        "      y_real_fake += tf.concat([noise_real, noise_fake], axis = 0)\n",
        "\n",
        "      # Calculating loss using BINARY CROSS ENTROPY\n",
        "      total_discriminator_loss = self.discriminator_loss(y_real_fake, y_pred_real_fake)\n",
        "\n",
        "    # Applying back propagation for discriminator\n",
        "    discriminator_gradient = discriminator_tape.gradient(total_discriminator_loss, self.discriminator.trainable_variables)\n",
        "    self.discriminator_optimizer.apply_gradients(zip(discriminator_gradient, self.discriminator.trainable_variables))\n",
        "\n",
        "\n",
        "    # Training the generator\n",
        "    with tf.GradientTape() as generator_tape:\n",
        "      # Creating random noise and passing it to the generator\n",
        "      random_input = tf.random.normal((128, 128, 1))\n",
        "      generated_img = self.generator(random_input, training = True)\n",
        "\n",
        "      # Getting predicted labels using the discriminator\n",
        "      predicted_labels = self.discriminator(generated_img, training = False)\n",
        "\n",
        "      # Calculating loss for the generator\n",
        "      total_generator_loss = self.generator_loss(tf.zeros_like(predicted_labels), predicted_labels)\n",
        "\n",
        "    # Applying back propagation for generator\n",
        "    generator_gradient = generator_tape.gradient(total_generator_loss, self.generator.trainable_variables)\n",
        "    self.generator_optimizer.apply_gradients(zip(generator_gradient, self.generator.trainable_variables))\n",
        "\n",
        "    return {\"discriminator_loss\": total_discriminator_loss, \"generator_loss\": total_generator_loss}"
      ],
      "metadata": {
        "id": "O78VFunm_-er"
      },
      "execution_count": 83,
      "outputs": []
    },
    {
      "cell_type": "code",
      "source": [
        "# Creating instance of the GAN model\n",
        "fashion_gan = GAN(generator, discriminator)"
      ],
      "metadata": {
        "id": "9kCODEcTs8uL"
      },
      "execution_count": 84,
      "outputs": []
    },
    {
      "cell_type": "code",
      "source": [
        "# Compile the model\n",
        "fashion_gan.compile(generator_optimizer, discriminator_optimizer, generator_loss, discriminator_loss)"
      ],
      "metadata": {
        "id": "05ia9dXyt_nq"
      },
      "execution_count": 85,
      "outputs": []
    },
    {
      "cell_type": "markdown",
      "source": [
        "## Creating Callbacks\n"
      ],
      "metadata": {
        "id": "5jO4Ih-tukeh"
      }
    },
    {
      "cell_type": "markdown",
      "source": [
        "### Custom callback"
      ],
      "metadata": {
        "id": "qc_B3XdB6PbN"
      }
    },
    {
      "cell_type": "code",
      "source": [
        "# Creating custom callback class to monitor the performance of our model\n",
        "class CustomCallback(Callback):\n",
        "  def __init__(self, num_img = 4, latent_dim = 128):\n",
        "    self.num_img = num_img\n",
        "    self.latent_dim = latent_dim\n",
        "\n",
        "  def on_epoch_end(self, epoch, logs = None):\n",
        "    # For every 5 epochs, show the generated images\n",
        "    if epoch % 5 == 0:\n",
        "      random_latent_vectors = tf.random.uniform((self.num_img, self.latent_dim, 1))\n",
        "      generated_imgs = self.model.generator(random_latent_vectors)\n",
        "      fig, ax = plt.subplots(nrows = 1, ncols = 4, figsize = (5, 5))\n",
        "      for j, img in enumerate(generated_imgs):\n",
        "        ax[j].imshow(img)\n",
        "        ax[j].axis(False)\n",
        "      plt.show()"
      ],
      "metadata": {
        "id": "s6kHa_eMudMt"
      },
      "execution_count": 86,
      "outputs": []
    },
    {
      "cell_type": "code",
      "source": [
        "# Creating all the necessary callback instances\n",
        "num_img = 4\n",
        "latent_dim = 128\n",
        "\n",
        "# Custom callback\n",
        "custom_callback = CustomCallback(num_img, latent_dim)"
      ],
      "metadata": {
        "id": "-K6Qbcl32s5D"
      },
      "execution_count": 87,
      "outputs": []
    },
    {
      "cell_type": "markdown",
      "source": [
        "### GAN callbacks"
      ],
      "metadata": {
        "id": "RIGAN5_aeX1O"
      }
    },
    {
      "cell_type": "code",
      "source": [
        "# Model Checkpoint callback\n",
        "checkpoint_path = 'generator_model_checkpoint/cp.ckpt'\n",
        "model_checkpoint = tf.keras.callbacks.ModelCheckpoint(checkpoint_path,\n",
        "                                                      monitor = 'generator_loss',\n",
        "                                                      verbose = 0,\n",
        "                                                      save_best_only = True,\n",
        "                                                      save_weights_only = True)\n",
        "\n",
        "# Early stopping call back\n",
        "early_stopping = tf.keras.callbacks.EarlyStopping(monitor = 'generator_loss',\n",
        "                                                  patience = 70)\n",
        "\n",
        "# Reduce learning rate\n",
        "reduce_lr = tf.keras.callbacks.ReduceLROnPlateau(monitor = 'generator_loss',\n",
        "                                                 factor = 0.1,\n",
        "                                                 patience = 10,\n",
        "                                                 verbose = 0,\n",
        "                                                 min_lr = 1e-7)"
      ],
      "metadata": {
        "id": "-m8jp3CBeRlV"
      },
      "execution_count": 88,
      "outputs": []
    },
    {
      "cell_type": "markdown",
      "source": [
        "## Fitting the model"
      ],
      "metadata": {
        "id": "BEfbS-0i6I_I"
      }
    },
    {
      "cell_type": "code",
      "source": [
        "# Fitting the model\n",
        "history = fashion_gan.fit(train_data,\n",
        "                          epochs = 100,\n",
        "                          steps_per_epoch = len(train_data),\n",
        "                          validation_data = test_data,\n",
        "                          validation_steps = len(test_data),\n",
        "                          callbacks = [custom_callback,\n",
        "                                       model_checkpoint,\n",
        "                                       early_stopping,\n",
        "                                       reduce_lr])"
      ],
      "metadata": {
        "colab": {
          "base_uri": "https://localhost:8080/",
          "height": 1000
        },
        "id": "GB6zQ3tz5zRK",
        "outputId": "7f93592a-cf1e-4a4b-a874-60c84e3d8a58"
      },
      "execution_count": 89,
      "outputs": [
        {
          "output_type": "stream",
          "name": "stdout",
          "text": [
            "Epoch 1/100\n",
            "469/469 [==============================] - ETA: 0s - discriminator_loss: 0.3066 - generator_loss: 2.3499"
          ]
        },
        {
          "output_type": "display_data",
          "data": {
            "text/plain": [
              "<Figure size 500x500 with 4 Axes>"
            ],
            "image/png": "[encoded data removed]"
          },
          "metadata": {}
        },
        {
          "output_type": "stream",
          "name": "stdout",
          "text": [
            "\b\b\b\b\b\b\b\b\b\b\b\b\b\b\b\b\b\b\b\b\b\b\b\b\b\b\b\b\b\b\b\b\b\b\b\b\b\b\b\b\b\b\b\b\b\b\b\b\b\b\b\b\b\b\b\b\b\b\b\b\b\b\b\b\b\b\b\b\b\b\b\b\b\b\b\b\b\b\b\b\b\b\b\b\b\b\b\b\b\b\b\b\b\b\b\b\b\b\b\b\b\b\b\b\r469/469 [==============================] - 65s 94ms/step - discriminator_loss: 0.3065 - generator_loss: 2.3505 - val_loss: 0.0000e+00 - lr: 0.0010\n",
            "Epoch 2/100\n",
            "469/469 [==============================] - 42s 88ms/step - discriminator_loss: 0.2676 - generator_loss: 2.6271 - val_loss: 0.0000e+00 - lr: 0.0010\n",
            "Epoch 3/100\n",
            "469/469 [==============================] - 42s 88ms/step - discriminator_loss: 0.2670 - generator_loss: 2.6558 - val_loss: 0.0000e+00 - lr: 0.0010\n",
            "Epoch 4/100\n",
            "469/469 [==============================] - 42s 89ms/step - discriminator_loss: 0.3493 - generator_loss: 2.4323 - val_loss: 0.0000e+00 - lr: 0.0010\n",
            "Epoch 5/100\n",
            "469/469 [==============================] - 43s 91ms/step - discriminator_loss: 0.4166 - generator_loss: 1.2798 - val_loss: 0.0000e+00 - lr: 0.0010\n",
            "Epoch 6/100\n",
            "469/469 [==============================] - ETA: 0s - discriminator_loss: 0.5733 - generator_loss: 0.8918"
          ]
        },
        {
          "output_type": "display_data",
          "data": {
            "text/plain": [
              "<Figure size 500x500 with 4 Axes>"
            ],
            "image/png": "[encoded data removed]"
          },
          "metadata": {}
        },
        {
          "output_type": "stream",
          "name": "stdout",
          "text": [
            "\b\b\b\b\b\b\b\b\b\b\b\b\b\b\b\b\b\b\b\b\b\b\b\b\b\b\b\b\b\b\b\b\b\b\b\b\b\b\b\b\b\b\b\b\b\b\b\b\b\b\b\b\b\b\b\b\b\b\b\b\b\b\b\b\b\b\b\b\b\b\b\b\b\b\b\b\b\b\b\b\b\b\b\b\b\b\b\b\b\b\b\b\b\b\b\b\b\b\b\b\b\b\b\b\r469/469 [==============================] - 43s 92ms/step - discriminator_loss: 0.5736 - generator_loss: 0.8914 - val_loss: 0.0000e+00 - lr: 0.0010\n",
            "Epoch 7/100\n",
            "469/469 [==============================] - 43s 91ms/step - discriminator_loss: 0.5984 - generator_loss: 0.9305 - val_loss: 0.0000e+00 - lr: 0.0010\n",
            "Epoch 8/100\n",
            "469/469 [==============================] - 43s 91ms/step - discriminator_loss: 0.6161 - generator_loss: 0.8433 - val_loss: 0.0000e+00 - lr: 0.0010\n",
            "Epoch 9/100\n",
            "469/469 [==============================] - 43s 91ms/step - discriminator_loss: 0.6209 - generator_loss: 0.8507 - val_loss: 0.0000e+00 - lr: 0.0010\n",
            "Epoch 10/100\n",
            "469/469 [==============================] - 43s 92ms/step - discriminator_loss: 0.6116 - generator_loss: 0.8407 - val_loss: 0.0000e+00 - lr: 0.0010\n",
            "Epoch 11/100\n",
            "469/469 [==============================] - ETA: 0s - discriminator_loss: 0.6153 - generator_loss: 0.8486"
          ]
        },
        {
          "output_type": "display_data",
          "data": {
            "text/plain": [
              "<Figure size 500x500 with 4 Axes>"
            ],
            "image/png": "[encoded data removed]"
          },
          "metadata": {}
        },
        {
          "output_type": "stream",
          "name": "stdout",
          "text": [
            "\b\b\b\b\b\b\b\b\b\b\b\b\b\b\b\b\b\b\b\b\b\b\b\b\b\b\b\b\b\b\b\b\b\b\b\b\b\b\b\b\b\b\b\b\b\b\b\b\b\b\b\b\b\b\b\b\b\b\b\b\b\b\b\b\b\b\b\b\b\b\b\b\b\b\b\b\b\b\b\b\b\b\b\b\b\b\b\b\b\b\b\b\b\b\b\b\b\b\b\b\b\b\b\b\r469/469 [==============================] - 43s 91ms/step - discriminator_loss: 0.6152 - generator_loss: 0.8488 - val_loss: 0.0000e+00 - lr: 0.0010\n",
            "Epoch 12/100\n",
            "469/469 [==============================] - 43s 91ms/step - discriminator_loss: 0.6282 - generator_loss: 0.8470 - val_loss: 0.0000e+00 - lr: 0.0010\n",
            "Epoch 13/100\n",
            "469/469 [==============================] - 43s 90ms/step - discriminator_loss: 0.6262 - generator_loss: 0.7885 - val_loss: 0.0000e+00 - lr: 0.0010\n",
            "Epoch 14/100\n",
            "469/469 [==============================] - 43s 92ms/step - discriminator_loss: 0.6356 - generator_loss: 0.8101 - val_loss: 0.0000e+00 - lr: 0.0010\n",
            "Epoch 15/100\n",
            "469/469 [==============================] - 43s 91ms/step - discriminator_loss: 0.6340 - generator_loss: 0.7984 - val_loss: 0.0000e+00 - lr: 0.0010\n",
            "Epoch 16/100\n",
            "469/469 [==============================] - ETA: 0s - discriminator_loss: 0.6411 - generator_loss: 0.8063"
          ]
        },
        {
          "output_type": "display_data",
          "data": {
            "text/plain": [
              "<Figure size 500x500 with 4 Axes>"
            ],
            "image/png": "[encoded data removed]"
          },
          "metadata": {}
        },
        {
          "output_type": "stream",
          "name": "stdout",
          "text": [
            "\b\b\b\b\b\b\b\b\b\b\b\b\b\b\b\b\b\b\b\b\b\b\b\b\b\b\b\b\b\b\b\b\b\b\b\b\b\b\b\b\b\b\b\b\b\b\b\b\b\b\b\b\b\b\b\b\b\b\b\b\b\b\b\b\b\b\b\b\b\b\b\b\b\b\b\b\b\b\b\b\b\b\b\b\b\b\b\b\b\b\b\b\b\b\b\b\b\b\b\b\b\b\b\b\r469/469 [==============================] - 43s 92ms/step - discriminator_loss: 0.6411 - generator_loss: 0.8064 - val_loss: 0.0000e+00 - lr: 0.0010\n",
            "Epoch 17/100\n",
            "469/469 [==============================] - 43s 91ms/step - discriminator_loss: 0.6490 - generator_loss: 0.7715 - val_loss: 0.0000e+00 - lr: 1.0000e-04\n",
            "Epoch 18/100\n",
            "469/469 [==============================] - 43s 91ms/step - discriminator_loss: 0.6545 - generator_loss: 0.7686 - val_loss: 0.0000e+00 - lr: 1.0000e-04\n",
            "Epoch 19/100\n",
            "469/469 [==============================] - 43s 91ms/step - discriminator_loss: 0.6570 - generator_loss: 0.7605 - val_loss: 0.0000e+00 - lr: 1.0000e-04\n",
            "Epoch 20/100\n",
            "469/469 [==============================] - 43s 90ms/step - discriminator_loss: 0.6623 - generator_loss: 0.7519 - val_loss: 0.0000e+00 - lr: 1.0000e-04\n",
            "Epoch 21/100\n",
            "469/469 [==============================] - ETA: 0s - discriminator_loss: 0.6640 - generator_loss: 0.7424"
          ]
        },
        {
          "output_type": "display_data",
          "data": {
            "text/plain": [
              "<Figure size 500x500 with 4 Axes>"
            ],
            "image/png": "[encoded data removed]"
          },
          "metadata": {}
        },
        {
          "output_type": "stream",
          "name": "stdout",
          "text": [
            "\b\b\b\b\b\b\b\b\b\b\b\b\b\b\b\b\b\b\b\b\b\b\b\b\b\b\b\b\b\b\b\b\b\b\b\b\b\b\b\b\b\b\b\b\b\b\b\b\b\b\b\b\b\b\b\b\b\b\b\b\b\b\b\b\b\b\b\b\b\b\b\b\b\b\b\b\b\b\b\b\b\b\b\b\b\b\b\b\b\b\b\b\b\b\b\b\b\b\b\b\b\b\b\b\r469/469 [==============================] - 43s 92ms/step - discriminator_loss: 0.6641 - generator_loss: 0.7425 - val_loss: 0.0000e+00 - lr: 1.0000e-04\n",
            "Epoch 22/100\n",
            "469/469 [==============================] - 43s 91ms/step - discriminator_loss: 0.6694 - generator_loss: 0.7495 - val_loss: 0.0000e+00 - lr: 1.0000e-04\n",
            "Epoch 23/100\n",
            "469/469 [==============================] - 43s 91ms/step - discriminator_loss: 0.6704 - generator_loss: 0.7554 - val_loss: 0.0000e+00 - lr: 1.0000e-04\n",
            "Epoch 24/100\n",
            "469/469 [==============================] - 44s 93ms/step - discriminator_loss: 0.6723 - generator_loss: 0.7450 - val_loss: 0.0000e+00 - lr: 1.0000e-04\n",
            "Epoch 25/100\n",
            "469/469 [==============================] - 43s 91ms/step - discriminator_loss: 0.6753 - generator_loss: 0.7394 - val_loss: 0.0000e+00 - lr: 1.0000e-04\n",
            "Epoch 26/100\n",
            "469/469 [==============================] - ETA: 0s - discriminator_loss: 0.6786 - generator_loss: 0.7214"
          ]
        },
        {
          "output_type": "display_data",
          "data": {
            "text/plain": [
              "<Figure size 500x500 with 4 Axes>"
            ],
            "image/png": "[encoded data removed]"
          },
          "metadata": {}
        },
        {
          "output_type": "stream",
          "name": "stdout",
          "text": [
            "\b\b\b\b\b\b\b\b\b\b\b\b\b\b\b\b\b\b\b\b\b\b\b\b\b\b\b\b\b\b\b\b\b\b\b\b\b\b\b\b\b\b\b\b\b\b\b\b\b\b\b\b\b\b\b\b\b\b\b\b\b\b\b\b\b\b\b\b\b\b\b\b\b\b\b\b\b\b\b\b\b\b\b\b\b\b\b\b\b\b\b\b\b\b\b\b\b\b\b\b\b\b\b\b\r469/469 [==============================] - 44s 94ms/step - discriminator_loss: 0.6786 - generator_loss: 0.7212 - val_loss: 0.0000e+00 - lr: 1.0000e-04\n",
            "Epoch 27/100\n",
            "469/469 [==============================] - 43s 91ms/step - discriminator_loss: 0.6796 - generator_loss: 0.7323 - val_loss: 0.0000e+00 - lr: 1.0000e-04\n",
            "Epoch 28/100\n",
            "469/469 [==============================] - 43s 90ms/step - discriminator_loss: 0.6785 - generator_loss: 0.7287 - val_loss: 0.0000e+00 - lr: 1.0000e-04\n",
            "Epoch 29/100\n",
            "469/469 [==============================] - 43s 91ms/step - discriminator_loss: 0.6804 - generator_loss: 0.7402 - val_loss: 0.0000e+00 - lr: 1.0000e-04\n",
            "Epoch 30/100\n",
            "469/469 [==============================] - 43s 92ms/step - discriminator_loss: 0.6807 - generator_loss: 0.7207 - val_loss: 0.0000e+00 - lr: 1.0000e-04\n",
            "Epoch 31/100\n",
            "469/469 [==============================] - ETA: 0s - discriminator_loss: 0.6831 - generator_loss: 0.7192"
          ]
        },
        {
          "output_type": "display_data",
          "data": {
            "text/plain": [
              "<Figure size 500x500 with 4 Axes>"
            ],
            "image/png": "[encoded data removed]"
          },
          "metadata": {}
        },
        {
          "output_type": "stream",
          "name": "stdout",
          "text": [
            "\b\b\b\b\b\b\b\b\b\b\b\b\b\b\b\b\b\b\b\b\b\b\b\b\b\b\b\b\b\b\b\b\b\b\b\b\b\b\b\b\b\b\b\b\b\b\b\b\b\b\b\b\b\b\b\b\b\b\b\b\b\b\b\b\b\b\b\b\b\b\b\b\b\b\b\b\b\b\b\b\b\b\b\b\b\b\b\b\b\b\b\b\b\b\b\b\b\b\b\b\b\b\b\b\r469/469 [==============================] - 43s 91ms/step - discriminator_loss: 0.6831 - generator_loss: 0.7191 - val_loss: 0.0000e+00 - lr: 1.0000e-04\n",
            "Epoch 32/100\n",
            "469/469 [==============================] - 43s 91ms/step - discriminator_loss: 0.6829 - generator_loss: 0.7330 - val_loss: 0.0000e+00 - lr: 1.0000e-04\n",
            "Epoch 33/100\n",
            "469/469 [==============================] - 43s 91ms/step - discriminator_loss: 0.6837 - generator_loss: 0.7205 - val_loss: 0.0000e+00 - lr: 1.0000e-04\n",
            "Epoch 34/100\n",
            "469/469 [==============================] - 43s 91ms/step - discriminator_loss: 0.6791 - generator_loss: 0.7513 - val_loss: 0.0000e+00 - lr: 1.0000e-04\n",
            "Epoch 35/100\n",
            "469/469 [==============================] - 44s 93ms/step - discriminator_loss: 0.6837 - generator_loss: 0.7369 - val_loss: 0.0000e+00 - lr: 1.0000e-04\n",
            "Epoch 36/100\n",
            "469/469 [==============================] - ETA: 0s - discriminator_loss: 0.6829 - generator_loss: 0.7322"
          ]
        },
        {
          "output_type": "display_data",
          "data": {
            "text/plain": [
              "<Figure size 500x500 with 4 Axes>"
            ],
            "image/png": "[encoded data removed]"
          },
          "metadata": {}
        },
        {
          "output_type": "stream",
          "name": "stdout",
          "text": [
            "\b\b\b\b\b\b\b\b\b\b\b\b\b\b\b\b\b\b\b\b\b\b\b\b\b\b\b\b\b\b\b\b\b\b\b\b\b\b\b\b\b\b\b\b\b\b\b\b\b\b\b\b\b\b\b\b\b\b\b\b\b\b\b\b\b\b\b\b\b\b\b\b\b\b\b\b\b\b\b\b\b\b\b\b\b\b\b\b\b\b\b\b\b\b\b\b\b\b\b\b\b\b\b\b\r469/469 [==============================] - 43s 91ms/step - discriminator_loss: 0.6829 - generator_loss: 0.7322 - val_loss: 0.0000e+00 - lr: 1.0000e-04\n",
            "Epoch 37/100\n",
            "469/469 [==============================] - 43s 91ms/step - discriminator_loss: 0.6846 - generator_loss: 0.7266 - val_loss: 0.0000e+00 - lr: 1.0000e-04\n",
            "Epoch 38/100\n",
            "469/469 [==============================] - 43s 91ms/step - discriminator_loss: 0.6850 - generator_loss: 0.7183 - val_loss: 0.0000e+00 - lr: 1.0000e-04\n",
            "Epoch 39/100\n",
            "469/469 [==============================] - 43s 92ms/step - discriminator_loss: 0.6853 - generator_loss: 0.7215 - val_loss: 0.0000e+00 - lr: 1.0000e-04\n",
            "Epoch 40/100\n",
            "469/469 [==============================] - 44s 93ms/step - discriminator_loss: 0.6854 - generator_loss: 0.7261 - val_loss: 0.0000e+00 - lr: 1.0000e-04\n",
            "Epoch 41/100\n",
            "469/469 [==============================] - ETA: 0s - discriminator_loss: 0.6840 - generator_loss: 0.7373"
          ]
        },
        {
          "output_type": "display_data",
          "data": {
            "text/plain": [
              "<Figure size 500x500 with 4 Axes>"
            ],
            "image/png": "[encoded data removed]"
          },
          "metadata": {}
        },
        {
          "output_type": "stream",
          "name": "stdout",
          "text": [
            "\b\b\b\b\b\b\b\b\b\b\b\b\b\b\b\b\b\b\b\b\b\b\b\b\b\b\b\b\b\b\b\b\b\b\b\b\b\b\b\b\b\b\b\b\b\b\b\b\b\b\b\b\b\b\b\b\b\b\b\b\b\b\b\b\b\b\b\b\b\b\b\b\b\b\b\b\b\b\b\b\b\b\b\b\b\b\b\b\b\b\b\b\b\b\b\b\b\b\b\b\b\b\b\b\r469/469 [==============================] - 43s 91ms/step - discriminator_loss: 0.6840 - generator_loss: 0.7373 - val_loss: 0.0000e+00 - lr: 1.0000e-05\n",
            "Epoch 42/100\n",
            "469/469 [==============================] - 44s 93ms/step - discriminator_loss: 0.6864 - generator_loss: 0.7358 - val_loss: 0.0000e+00 - lr: 1.0000e-05\n",
            "Epoch 43/100\n",
            "469/469 [==============================] - 43s 91ms/step - discriminator_loss: 0.6864 - generator_loss: 0.7359 - val_loss: 0.0000e+00 - lr: 1.0000e-05\n",
            "Epoch 44/100\n",
            "469/469 [==============================] - 43s 91ms/step - discriminator_loss: 0.6861 - generator_loss: 0.7279 - val_loss: 0.0000e+00 - lr: 1.0000e-05\n",
            "Epoch 45/100\n",
            "469/469 [==============================] - 43s 91ms/step - discriminator_loss: 0.6873 - generator_loss: 0.7210 - val_loss: 0.0000e+00 - lr: 1.0000e-05\n",
            "Epoch 46/100\n",
            "469/469 [==============================] - ETA: 0s - discriminator_loss: 0.6859 - generator_loss: 0.7348"
          ]
        },
        {
          "output_type": "display_data",
          "data": {
            "text/plain": [
              "<Figure size 500x500 with 4 Axes>"
            ],
            "image/png": "[encoded data removed]"
          },
          "metadata": {}
        },
        {
          "output_type": "stream",
          "name": "stdout",
          "text": [
            "\b\b\b\b\b\b\b\b\b\b\b\b\b\b\b\b\b\b\b\b\b\b\b\b\b\b\b\b\b\b\b\b\b\b\b\b\b\b\b\b\b\b\b\b\b\b\b\b\b\b\b\b\b\b\b\b\b\b\b\b\b\b\b\b\b\b\b\b\b\b\b\b\b\b\b\b\b\b\b\b\b\b\b\b\b\b\b\b\b\b\b\b\b\b\b\b\b\b\b\b\b\b\b\b\r469/469 [==============================] - 43s 91ms/step - discriminator_loss: 0.6859 - generator_loss: 0.7350 - val_loss: 0.0000e+00 - lr: 1.0000e-05\n",
            "Epoch 47/100\n",
            "469/469 [==============================] - 43s 91ms/step - discriminator_loss: 0.6878 - generator_loss: 0.7330 - val_loss: 0.0000e+00 - lr: 1.0000e-05\n",
            "Epoch 48/100\n",
            "469/469 [==============================] - 43s 91ms/step - discriminator_loss: 0.6859 - generator_loss: 0.7404 - val_loss: 0.0000e+00 - lr: 1.0000e-05\n",
            "Epoch 49/100\n",
            "469/469 [==============================] - 43s 91ms/step - discriminator_loss: 0.6872 - generator_loss: 0.7251 - val_loss: 0.0000e+00 - lr: 1.0000e-05\n",
            "Epoch 50/100\n",
            "469/469 [==============================] - 43s 92ms/step - discriminator_loss: 0.6872 - generator_loss: 0.7386 - val_loss: 0.0000e+00 - lr: 1.0000e-05\n",
            "Epoch 51/100\n",
            "469/469 [==============================] - ETA: 0s - discriminator_loss: 0.6880 - generator_loss: 0.7352"
          ]
        },
        {
          "output_type": "display_data",
          "data": {
            "text/plain": [
              "<Figure size 500x500 with 4 Axes>"
            ],
            "image/png": "[encoded data removed]"
          },
          "metadata": {}
        },
        {
          "output_type": "stream",
          "name": "stdout",
          "text": [
            "\b\b\b\b\b\b\b\b\b\b\b\b\b\b\b\b\b\b\b\b\b\b\b\b\b\b\b\b\b\b\b\b\b\b\b\b\b\b\b\b\b\b\b\b\b\b\b\b\b\b\b\b\b\b\b\b\b\b\b\b\b\b\b\b\b\b\b\b\b\b\b\b\b\b\b\b\b\b\b\b\b\b\b\b\b\b\b\b\b\b\b\b\b\b\b\b\b\b\b\b\b\b\b\b\r469/469 [==============================] - 43s 91ms/step - discriminator_loss: 0.6881 - generator_loss: 0.7351 - val_loss: 0.0000e+00 - lr: 1.0000e-06\n",
            "Epoch 52/100\n",
            "469/469 [==============================] - 43s 92ms/step - discriminator_loss: 0.6871 - generator_loss: 0.7505 - val_loss: 0.0000e+00 - lr: 1.0000e-06\n",
            "Epoch 53/100\n",
            "469/469 [==============================] - 43s 91ms/step - discriminator_loss: 0.6875 - generator_loss: 0.7344 - val_loss: 0.0000e+00 - lr: 1.0000e-06\n",
            "Epoch 54/100\n",
            "469/469 [==============================] - 43s 91ms/step - discriminator_loss: 0.6890 - generator_loss: 0.7349 - val_loss: 0.0000e+00 - lr: 1.0000e-06\n",
            "Epoch 55/100\n",
            "469/469 [==============================] - 43s 92ms/step - discriminator_loss: 0.6891 - generator_loss: 0.7331 - val_loss: 0.0000e+00 - lr: 1.0000e-06\n",
            "Epoch 56/100\n",
            "469/469 [==============================] - ETA: 0s - discriminator_loss: 0.6893 - generator_loss: 0.7369"
          ]
        },
        {
          "output_type": "display_data",
          "data": {
            "text/plain": [
              "<Figure size 500x500 with 4 Axes>"
            ],
            "image/png": "[encoded data removed]"
          },
          "metadata": {}
        },
        {
          "output_type": "stream",
          "name": "stdout",
          "text": [
            "\b\b\b\b\b\b\b\b\b\b\b\b\b\b\b\b\b\b\b\b\b\b\b\b\b\b\b\b\b\b\b\b\b\b\b\b\b\b\b\b\b\b\b\b\b\b\b\b\b\b\b\b\b\b\b\b\b\b\b\b\b\b\b\b\b\b\b\b\b\b\b\b\b\b\b\b\b\b\b\b\b\b\b\b\b\b\b\b\b\b\b\b\b\b\b\b\b\b\b\b\b\b\b\b\r469/469 [==============================] - 43s 91ms/step - discriminator_loss: 0.6893 - generator_loss: 0.7368 - val_loss: 0.0000e+00 - lr: 1.0000e-06\n",
            "Epoch 57/100\n",
            "469/469 [==============================] - 44s 93ms/step - discriminator_loss: 0.6884 - generator_loss: 0.7378 - val_loss: 0.0000e+00 - lr: 1.0000e-06\n",
            "Epoch 58/100\n",
            "469/469 [==============================] - 43s 91ms/step - discriminator_loss: 0.6898 - generator_loss: 0.7484 - val_loss: 0.0000e+00 - lr: 1.0000e-06\n",
            "Epoch 59/100\n",
            "469/469 [==============================] - 43s 91ms/step - discriminator_loss: 0.6892 - generator_loss: 0.7364 - val_loss: 0.0000e+00 - lr: 1.0000e-06\n",
            "Epoch 60/100\n",
            "469/469 [==============================] - 43s 91ms/step - discriminator_loss: 0.6885 - generator_loss: 0.7449 - val_loss: 0.0000e+00 - lr: 1.0000e-06\n",
            "Epoch 61/100\n",
            "469/469 [==============================] - ETA: 0s - discriminator_loss: 0.6889 - generator_loss: 0.7307"
          ]
        },
        {
          "output_type": "display_data",
          "data": {
            "text/plain": [
              "<Figure size 500x500 with 4 Axes>"
            ],
            "image/png": "[encoded data removed]"
          },
          "metadata": {}
        },
        {
          "output_type": "stream",
          "name": "stdout",
          "text": [
            "\b\b\b\b\b\b\b\b\b\b\b\b\b\b\b\b\b\b\b\b\b\b\b\b\b\b\b\b\b\b\b\b\b\b\b\b\b\b\b\b\b\b\b\b\b\b\b\b\b\b\b\b\b\b\b\b\b\b\b\b\b\b\b\b\b\b\b\b\b\b\b\b\b\b\b\b\b\b\b\b\b\b\b\b\b\b\b\b\b\b\b\b\b\b\b\b\b\b\b\b\b\b\b\b\r469/469 [==============================] - 43s 92ms/step - discriminator_loss: 0.6889 - generator_loss: 0.7308 - val_loss: 0.0000e+00 - lr: 1.0000e-07\n",
            "Epoch 62/100\n",
            "469/469 [==============================] - 43s 91ms/step - discriminator_loss: 0.6885 - generator_loss: 0.7427 - val_loss: 0.0000e+00 - lr: 1.0000e-07\n",
            "Epoch 63/100\n",
            "469/469 [==============================] - 43s 91ms/step - discriminator_loss: 0.6890 - generator_loss: 0.7372 - val_loss: 0.0000e+00 - lr: 1.0000e-07\n",
            "Epoch 64/100\n",
            "469/469 [==============================] - 43s 90ms/step - discriminator_loss: 0.6890 - generator_loss: 0.7412 - val_loss: 0.0000e+00 - lr: 1.0000e-07\n",
            "Epoch 65/100\n",
            "469/469 [==============================] - 43s 91ms/step - discriminator_loss: 0.6890 - generator_loss: 0.7411 - val_loss: 0.0000e+00 - lr: 1.0000e-07\n",
            "Epoch 66/100\n",
            "469/469 [==============================] - ETA: 0s - discriminator_loss: 0.6886 - generator_loss: 0.7438"
          ]
        },
        {
          "output_type": "display_data",
          "data": {
            "text/plain": [
              "<Figure size 500x500 with 4 Axes>"
            ],
            "image/png": "[encoded data removed]"
          },
          "metadata": {}
        },
        {
          "output_type": "stream",
          "name": "stdout",
          "text": [
            "\b\b\b\b\b\b\b\b\b\b\b\b\b\b\b\b\b\b\b\b\b\b\b\b\b\b\b\b\b\b\b\b\b\b\b\b\b\b\b\b\b\b\b\b\b\b\b\b\b\b\b\b\b\b\b\b\b\b\b\b\b\b\b\b\b\b\b\b\b\b\b\b\b\b\b\b\b\b\b\b\b\b\b\b\b\b\b\b\b\b\b\b\b\b\b\b\b\b\b\b\b\b\b\b\r469/469 [==============================] - 43s 91ms/step - discriminator_loss: 0.6885 - generator_loss: 0.7438 - val_loss: 0.0000e+00 - lr: 1.0000e-07\n",
            "Epoch 67/100\n",
            "469/469 [==============================] - 43s 91ms/step - discriminator_loss: 0.6902 - generator_loss: 0.7275 - val_loss: 0.0000e+00 - lr: 1.0000e-07\n",
            "Epoch 68/100\n",
            "469/469 [==============================] - 43s 91ms/step - discriminator_loss: 0.6901 - generator_loss: 0.7387 - val_loss: 0.0000e+00 - lr: 1.0000e-07\n",
            "Epoch 69/100\n",
            "469/469 [==============================] - 43s 91ms/step - discriminator_loss: 0.6864 - generator_loss: 0.7618 - val_loss: 0.0000e+00 - lr: 1.0000e-07\n",
            "Epoch 70/100\n",
            "469/469 [==============================] - 43s 91ms/step - discriminator_loss: 0.6880 - generator_loss: 0.7522 - val_loss: 0.0000e+00 - lr: 1.0000e-07\n",
            "Epoch 71/100\n",
            "469/469 [==============================] - ETA: 0s - discriminator_loss: 0.6896 - generator_loss: 0.7364"
          ]
        },
        {
          "output_type": "display_data",
          "data": {
            "text/plain": [
              "<Figure size 500x500 with 4 Axes>"
            ],
            "image/png": "[encoded data removed]"
          },
          "metadata": {}
        },
        {
          "output_type": "stream",
          "name": "stdout",
          "text": [
            "\b\b\b\b\b\b\b\b\b\b\b\b\b\b\b\b\b\b\b\b\b\b\b\b\b\b\b\b\b\b\b\b\b\b\b\b\b\b\b\b\b\b\b\b\b\b\b\b\b\b\b\b\b\b\b\b\b\b\b\b\b\b\b\b\b\b\b\b\b\b\b\b\b\b\b\b\b\b\b\b\b\b\b\b\b\b\b\b\b\b\b\b\b\b\b\b\b\b\b\b\b\b\b\b\r469/469 [==============================] - 43s 92ms/step - discriminator_loss: 0.6896 - generator_loss: 0.7366 - val_loss: 0.0000e+00 - lr: 1.0000e-07\n",
            "Epoch 72/100\n",
            "469/469 [==============================] - 43s 91ms/step - discriminator_loss: 0.6896 - generator_loss: 0.7393 - val_loss: 0.0000e+00 - lr: 1.0000e-07\n",
            "Epoch 73/100\n",
            "469/469 [==============================] - 43s 91ms/step - discriminator_loss: 0.6887 - generator_loss: 0.7519 - val_loss: 0.0000e+00 - lr: 1.0000e-07\n",
            "Epoch 74/100\n",
            "469/469 [==============================] - 43s 91ms/step - discriminator_loss: 0.6888 - generator_loss: 0.7284 - val_loss: 0.0000e+00 - lr: 1.0000e-07\n",
            "Epoch 75/100\n",
            "469/469 [==============================] - 43s 91ms/step - discriminator_loss: 0.6893 - generator_loss: 0.7400 - val_loss: 0.0000e+00 - lr: 1.0000e-07\n",
            "Epoch 76/100\n",
            "469/469 [==============================] - ETA: 0s - discriminator_loss: 0.6893 - generator_loss: 0.7379"
          ]
        },
        {
          "output_type": "display_data",
          "data": {
            "text/plain": [
              "<Figure size 500x500 with 4 Axes>"
            ],
            "image/png": "[encoded data removed]"
          },
          "metadata": {}
        },
        {
          "output_type": "stream",
          "name": "stdout",
          "text": [
            "\b\b\b\b\b\b\b\b\b\b\b\b\b\b\b\b\b\b\b\b\b\b\b\b\b\b\b\b\b\b\b\b\b\b\b\b\b\b\b\b\b\b\b\b\b\b\b\b\b\b\b\b\b\b\b\b\b\b\b\b\b\b\b\b\b\b\b\b\b\b\b\b\b\b\b\b\b\b\b\b\b\b\b\b\b\b\b\b\b\b\b\b\b\b\b\b\b\b\b\b\b\b\b\b\r469/469 [==============================] - 43s 91ms/step - discriminator_loss: 0.6893 - generator_loss: 0.7380 - val_loss: 0.0000e+00 - lr: 1.0000e-07\n",
            "Epoch 77/100\n",
            "469/469 [==============================] - 43s 91ms/step - discriminator_loss: 0.6902 - generator_loss: 0.7284 - val_loss: 0.0000e+00 - lr: 1.0000e-07\n",
            "Epoch 78/100\n",
            "469/469 [==============================] - 43s 92ms/step - discriminator_loss: 0.6894 - generator_loss: 0.7455 - val_loss: 0.0000e+00 - lr: 1.0000e-07\n",
            "Epoch 79/100\n",
            "469/469 [==============================] - 43s 91ms/step - discriminator_loss: 0.6898 - generator_loss: 0.7336 - val_loss: 0.0000e+00 - lr: 1.0000e-07\n",
            "Epoch 80/100\n",
            "469/469 [==============================] - 43s 91ms/step - discriminator_loss: 0.6880 - generator_loss: 0.7485 - val_loss: 0.0000e+00 - lr: 1.0000e-07\n",
            "Epoch 81/100\n",
            "469/469 [==============================] - ETA: 0s - discriminator_loss: 0.6906 - generator_loss: 0.7332"
          ]
        },
        {
          "output_type": "display_data",
          "data": {
            "text/plain": [
              "<Figure size 500x500 with 4 Axes>"
            ],
            "image/png": "[encoded data removed]"
          },
          "metadata": {}
        },
        {
          "output_type": "stream",
          "name": "stdout",
          "text": [
            "\b\b\b\b\b\b\b\b\b\b\b\b\b\b\b\b\b\b\b\b\b\b\b\b\b\b\b\b\b\b\b\b\b\b\b\b\b\b\b\b\b\b\b\b\b\b\b\b\b\b\b\b\b\b\b\b\b\b\b\b\b\b\b\b\b\b\b\b\b\b\b\b\b\b\b\b\b\b\b\b\b\b\b\b\b\b\b\b\b\b\b\b\b\b\b\b\b\b\b\b\b\b\b\b\r469/469 [==============================] - 43s 92ms/step - discriminator_loss: 0.6906 - generator_loss: 0.7333 - val_loss: 0.0000e+00 - lr: 1.0000e-07\n",
            "Epoch 82/100\n",
            "469/469 [==============================] - 43s 91ms/step - discriminator_loss: 0.6903 - generator_loss: 0.7384 - val_loss: 0.0000e+00 - lr: 1.0000e-07\n",
            "Epoch 83/100\n",
            "469/469 [==============================] - 43s 91ms/step - discriminator_loss: 0.6899 - generator_loss: 0.7328 - val_loss: 0.0000e+00 - lr: 1.0000e-07\n",
            "Epoch 84/100\n",
            "469/469 [==============================] - 43s 91ms/step - discriminator_loss: 0.6893 - generator_loss: 0.7452 - val_loss: 0.0000e+00 - lr: 1.0000e-07\n",
            "Epoch 85/100\n",
            "469/469 [==============================] - 43s 91ms/step - discriminator_loss: 0.6894 - generator_loss: 0.7399 - val_loss: 0.0000e+00 - lr: 1.0000e-07\n",
            "Epoch 86/100\n",
            "469/469 [==============================] - ETA: 0s - discriminator_loss: 0.6878 - generator_loss: 0.7452"
          ]
        },
        {
          "output_type": "display_data",
          "data": {
            "text/plain": [
              "<Figure size 500x500 with 4 Axes>"
            ],
            "image/png": "[encoded data removed]"
          },
          "metadata": {}
        },
        {
          "output_type": "stream",
          "name": "stdout",
          "text": [
            "\b\b\b\b\b\b\b\b\b\b\b\b\b\b\b\b\b\b\b\b\b\b\b\b\b\b\b\b\b\b\b\b\b\b\b\b\b\b\b\b\b\b\b\b\b\b\b\b\b\b\b\b\b\b\b\b\b\b\b\b\b\b\b\b\b\b\b\b\b\b\b\b\b\b\b\b\b\b\b\b\b\b\b\b\b\b\b\b\b\b\b\b\b\b\b\b\b\b\b\b\b\b\b\b\r469/469 [==============================] - 43s 92ms/step - discriminator_loss: 0.6878 - generator_loss: 0.7453 - val_loss: 0.0000e+00 - lr: 1.0000e-07\n",
            "Epoch 87/100\n",
            "469/469 [==============================] - 43s 91ms/step - discriminator_loss: 0.6758 - generator_loss: 0.7964 - val_loss: 0.0000e+00 - lr: 1.0000e-07\n",
            "Epoch 88/100\n",
            "469/469 [==============================] - 43s 91ms/step - discriminator_loss: 0.6621 - generator_loss: 0.8541 - val_loss: 0.0000e+00 - lr: 1.0000e-07\n",
            "Epoch 89/100\n",
            "469/469 [==============================] - 43s 91ms/step - discriminator_loss: 0.6330 - generator_loss: 1.0011 - val_loss: 0.0000e+00 - lr: 1.0000e-07\n",
            "Epoch 90/100\n",
            "469/469 [==============================] - 43s 91ms/step - discriminator_loss: 0.6580 - generator_loss: 0.8938 - val_loss: 0.0000e+00 - lr: 1.0000e-07\n",
            "Epoch 91/100\n",
            "469/469 [==============================] - ETA: 0s - discriminator_loss: nan - generator_loss: nan"
          ]
        },
        {
          "output_type": "display_data",
          "data": {
            "text/plain": [
              "<Figure size 500x500 with 4 Axes>"
            ],
            "image/png": "[encoded data removed]"
          },
          "metadata": {}
        },
        {
          "output_type": "stream",
          "name": "stdout",
          "text": [
            "\b\b\b\b\b\b\b\b\b\b\b\b\b\b\b\b\b\b\b\b\b\b\b\b\b\b\b\b\b\b\b\b\b\b\b\b\b\b\b\b\b\b\b\b\b\b\b\b\b\b\b\b\b\b\b\b\b\b\b\b\b\b\b\b\b\b\b\b\b\b\b\b\b\b\b\b\b\b\b\b\b\b\b\b\b\b\b\b\b\b\b\b\b\b\b\b\b\b\r469/469 [==============================] - 38s 81ms/step - discriminator_loss: nan - generator_loss: nan - val_loss: 0.0000e+00 - lr: 1.0000e-07\n",
            "Epoch 92/100\n",
            "469/469 [==============================] - 37s 79ms/step - discriminator_loss: nan - generator_loss: nan - val_loss: 0.0000e+00 - lr: 1.0000e-07\n",
            "Epoch 93/100\n",
            "469/469 [==============================] - 37s 78ms/step - discriminator_loss: nan - generator_loss: nan - val_loss: 0.0000e+00 - lr: 1.0000e-07\n",
            "Epoch 94/100\n",
            "469/469 [==============================] - 38s 81ms/step - discriminator_loss: nan - generator_loss: nan - val_loss: 0.0000e+00 - lr: 1.0000e-07\n",
            "Epoch 95/100\n",
            "469/469 [==============================] - 38s 81ms/step - discriminator_loss: nan - generator_loss: nan - val_loss: 0.0000e+00 - lr: 1.0000e-07\n",
            "Epoch 96/100\n",
            "469/469 [==============================] - ETA: 0s - discriminator_loss: nan - generator_loss: nan"
          ]
        },
        {
          "output_type": "display_data",
          "data": {
            "text/plain": [
              "<Figure size 500x500 with 4 Axes>"
            ],
            "image/png": "[encoded data removed]"
          },
          "metadata": {}
        },
        {
          "output_type": "stream",
          "name": "stdout",
          "text": [
            "\b\b\b\b\b\b\b\b\b\b\b\b\b\b\b\b\b\b\b\b\b\b\b\b\b\b\b\b\b\b\b\b\b\b\b\b\b\b\b\b\b\b\b\b\b\b\b\b\b\b\b\b\b\b\b\b\b\b\b\b\b\b\b\b\b\b\b\b\b\b\b\b\b\b\b\b\b\b\b\b\b\b\b\b\b\b\b\b\b\b\b\b\b\b\b\b\b\b\r469/469 [==============================] - 37s 80ms/step - discriminator_loss: nan - generator_loss: nan - val_loss: 0.0000e+00 - lr: 1.0000e-07\n",
            "Epoch 97/100\n",
            "469/469 [==============================] - 38s 81ms/step - discriminator_loss: nan - generator_loss: nan - val_loss: 0.0000e+00 - lr: 1.0000e-07\n",
            "Epoch 98/100\n",
            "469/469 [==============================] - 38s 80ms/step - discriminator_loss: nan - generator_loss: nan - val_loss: 0.0000e+00 - lr: 1.0000e-07\n",
            "Epoch 99/100\n",
            "469/469 [==============================] - 37s 79ms/step - discriminator_loss: nan - generator_loss: nan - val_loss: 0.0000e+00 - lr: 1.0000e-07\n",
            "Epoch 100/100\n",
            "469/469 [==============================] - 38s 80ms/step - discriminator_loss: nan - generator_loss: nan - val_loss: 0.0000e+00 - lr: 1.0000e-07\n"
          ]
        }
      ]
    },
    {
      "cell_type": "markdown",
      "source": [
        "### Results from our generator after training for 51 epochs."
      ],
      "metadata": {
        "id": "zEHme3GmCuDg"
      }
    },
    {
      "cell_type": "code",
      "source": [
        "# Loaded models\n",
        "loaded_digit_gan = GAN(generator, discriminator)\n",
        "loaded_digit_gan.load_weights('/content/generator_model_checkpoint/cp.ckpt')"
      ],
      "metadata": {
        "colab": {
          "base_uri": "https://localhost:8080/"
        },
        "id": "NpmERcefiQwy",
        "outputId": "106978e9-4724-4827-ad46-bc79185c7d4a"
      },
      "execution_count": 91,
      "outputs": [
        {
          "output_type": "execute_result",
          "data": {
            "text/plain": [
              "<tensorflow.python.checkpoint.checkpoint.CheckpointLoadStatus at 0x7c06defc9300>"
            ]
          },
          "metadata": {},
          "execution_count": 91
        }
      ]
    },
    {
      "cell_type": "code",
      "source": [
        "imgs = loaded_digit_gan.generator.predict(tf.random.normal((16, 128, 1)))\n",
        "fig, ax = plt.subplots(nrows = 4, ncols = 4, figsize = (5, 5))\n",
        "plt.title(\"Generated Images\", fontsize = 16, x = -1.7, y = 5)\n",
        "for r in range(4):\n",
        "  for c in range(4):\n",
        "    ax[r][c].imshow(imgs[(r+1)*(c+1)-1])\n",
        "    ax[r][c].axis(\"off\")"
      ],
      "metadata": {
        "id": "NVSFJQ7L661N",
        "colab": {
          "base_uri": "https://localhost:8080/",
          "height": 496
        },
        "outputId": "8d07ed4d-904e-45bc-e835-f801e45d18ee"
      },
      "execution_count": 92,
      "outputs": [
        {
          "output_type": "stream",
          "name": "stdout",
          "text": [
            "1/1 [==============================] - 0s 70ms/step\n"
          ]
        },
        {
          "output_type": "display_data",
          "data": {
            "text/plain": [
              "<Figure size 500x500 with 16 Axes>"
            ],
            "image/png": "[encoded data removed]"
          },
          "metadata": {}
        }
      ]
    },
    {
      "cell_type": "markdown",
      "source": [
        "## Plotting Loss Curves"
      ],
      "metadata": {
        "id": "qWya7_pfjtvW"
      }
    },
    {
      "cell_type": "code",
      "source": [
        "plt.suptitle('Loss')\n",
        "plt.plot(history.history['discriminator_loss'], label='discriminator_loss')\n",
        "plt.plot(history.history['generator_loss'], label='generator_loss')\n",
        "plt.legend()\n",
        "plt.show()"
      ],
      "metadata": {
        "id": "mR7eKAb1NXLn",
        "colab": {
          "base_uri": "https://localhost:8080/",
          "height": 478
        },
        "outputId": "97b93a9f-b313-4aa1-eb27-b99fc6e26834"
      },
      "execution_count": 93,
      "outputs": [
        {
          "output_type": "display_data",
          "data": {
            "text/plain": [
              "<Figure size 640x480 with 1 Axes>"
            ],
            "image/png": "[encoded data removed]"
          },
          "metadata": {}
        }
      ]
    },
    {
      "cell_type": "markdown",
      "source": [
        "## Saving the model"
      ],
      "metadata": {
        "id": "KUUZLKXGjzPR"
      }
    },
    {
      "cell_type": "code",
      "source": [
        "# Save the model\n",
        "loaded_digit_gan.generator.save('digit_gan_generator.h5')\n",
        "loaded_digit_gan.discriminator.save('digit_gan_discriminator.h5')"
      ],
      "metadata": {
        "colab": {
          "base_uri": "https://localhost:8080/"
        },
        "id": "zdGMZIlMjq2U",
        "outputId": "73bfc9d0-97f2-4a17-af9b-7d4e22c4b0cc"
      },
      "execution_count": 95,
      "outputs": [
        {
          "output_type": "stream",
          "name": "stderr",
          "text": [
            "/usr/local/lib/python3.10/dist-packages/keras/src/engine/training.py:3103: UserWarning: You are saving your model as an HDF5 file via `model.save()`. This file format is considered legacy. We recommend using instead the native Keras format, e.g. `model.save('my_model.keras')`.\n",
            "  saving_api.save_model(\n",
            "WARNING:tensorflow:Compiled the loaded model, but the compiled metrics have yet to be built. `model.compile_metrics` will be empty until you train or evaluate the model.\n",
            "WARNING:tensorflow:Compiled the loaded model, but the compiled metrics have yet to be built. `model.compile_metrics` will be empty until you train or evaluate the model.\n"
          ]
        }
      ]
    },
    {
      "cell_type": "code",
      "source": [],
      "metadata": {
        "id": "1fE5CQTXkK93"
      },
      "execution_count": null,
      "outputs": []
    }
  ]
}