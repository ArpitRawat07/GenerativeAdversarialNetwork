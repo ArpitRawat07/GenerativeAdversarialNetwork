{
  "nbformat": 4,
  "nbformat_minor": 0,
  "metadata": {
    "colab": {
      "provenance": [],
      "toc_visible": true,
      "gpuType": "T4",
      "authorship_tag": "ABX9TyNfiSXqvpDQh/kX7QoM7aI7",
      "include_colab_link": true
    },
    "kernelspec": {
      "name": "python3",
      "display_name": "Python 3"
    },
    "language_info": {
      "name": "python"
    },
    "accelerator": "GPU"
  },
  "cells": [
    {
      "cell_type": "markdown",
      "metadata": {
        "id": "view-in-github",
        "colab_type": "text"
      },
      "source": [
        "<a href=\"https://colab.research.google.com/github/ArpitRawat07/GenerativeAdversarialNetwork/blob/main/GAN_Fashion_mnist.ipynb\" target=\"_parent\"><img src=\"https://colab.research.google.com/assets/colab-badge.svg\" alt=\"Open In Colab\"/></a>"
      ]
    },
    {
      "cell_type": "markdown",
      "source": [
        "# Generative Adversarial Network(GAN) for fashion generation using Fashion-mnist Dataset"
      ],
      "metadata": {
        "id": "Xbr0R6jq56T0"
      }
    },
    {
      "cell_type": "markdown",
      "source": [
        "## Importing Data and Dependencies"
      ],
      "metadata": {
        "id": "EyaCJqpH6fo2"
      }
    },
    {
      "cell_type": "code",
      "execution_count": 105,
      "metadata": {
        "id": "bK_FuY9IfaII"
      },
      "outputs": [],
      "source": [
        "# Importing dependencies\n",
        "import numpy as np\n",
        "from numpy import zeros, ones, asarray\n",
        "from numpy.random import randint, randn\n",
        "\n",
        "import cv2\n",
        "\n",
        "import matplotlib.pyplot as plt\n",
        "import os\n",
        "from os import listdir, makedirs\n",
        "from PIL import Image\n",
        "import warnings\n",
        "from tqdm.notebook import tqdm\n",
        "import random\n",
        "from glob import glob\n",
        "\n",
        "import tensorflow as tf\n",
        "from tensorflow import keras\n",
        "import tensorflow_datasets as tfds\n",
        "from tensorflow.keras.preprocessing.image import load_img, array_to_img\n",
        "from tensorflow.keras.models import Sequential, Model\n",
        "from tensorflow.keras import layers\n",
        "from tensorflow.keras.layers import Input, Conv2D, Dense, Flatten, Reshape, LeakyReLU, Dropout, UpSampling2D, Activation\n",
        "from tensorflow.keras.optimizers import Adam\n",
        "from tensorflow.keras.losses import BinaryCrossentropy\n",
        "from tensorflow.keras.callbacks import Callback\n",
        "from keras.utils import plot_model\n",
        "\n",
        "import shutil\n",
        "import zipfile"
      ]
    },
    {
      "cell_type": "code",
      "source": [
        "# Turning on mixed precision for gpu\n",
        "tf.keras.mixed_precision.set_global_policy('mixed_float16')\n",
        "tf.keras.mixed_precision.global_policy()"
      ],
      "metadata": {
        "colab": {
          "base_uri": "https://localhost:8080/"
        },
        "id": "nL6bdXJhh5xT",
        "outputId": "2ded8df8-5045-49df-e3ed-1e382c3281c9"
      },
      "execution_count": 212,
      "outputs": [
        {
          "output_type": "execute_result",
          "data": {
            "text/plain": [
              "<Policy \"mixed_float16\">"
            ]
          },
          "metadata": {},
          "execution_count": 212
        }
      ]
    },
    {
      "cell_type": "code",
      "source": [
        "(train_data, test_data), ds_info = tfds.load(name='fashion_mnist',\n",
        "                                             split=['train', 'test'],\n",
        "                                             shuffle_files=True,\n",
        "                                             as_supervised=True,\n",
        "                                             with_info=True)"
      ],
      "metadata": {
        "id": "Xaoso9qIlsaX"
      },
      "execution_count": 118,
      "outputs": []
    },
    {
      "cell_type": "code",
      "source": [
        "ds_info.features"
      ],
      "metadata": {
        "colab": {
          "base_uri": "https://localhost:8080/"
        },
        "id": "s-BaRYjdpwr5",
        "outputId": "03e3e7f8-b2fb-4df6-ea63-35b614bffc38"
      },
      "execution_count": 119,
      "outputs": [
        {
          "output_type": "execute_result",
          "data": {
            "text/plain": [
              "FeaturesDict({\n",
              "    'image': Image(shape=(28, 28, 1), dtype=uint8),\n",
              "    'label': ClassLabel(shape=(), dtype=int64, num_classes=10),\n",
              "})"
            ]
          },
          "metadata": {},
          "execution_count": 119
        }
      ]
    },
    {
      "cell_type": "code",
      "source": [
        "type(train_data)"
      ],
      "metadata": {
        "colab": {
          "base_uri": "https://localhost:8080/"
        },
        "id": "OwKPziEfsU9z",
        "outputId": "53290b9a-4041-4894-952e-bd76aa450d2e"
      },
      "execution_count": 120,
      "outputs": [
        {
          "output_type": "execute_result",
          "data": {
            "text/plain": [
              "tensorflow.python.data.ops.prefetch_op._PrefetchDataset"
            ]
          },
          "metadata": {},
          "execution_count": 120
        }
      ]
    },
    {
      "cell_type": "code",
      "source": [
        "class_names = ds_info.features['label'].names\n",
        "class_names"
      ],
      "metadata": {
        "colab": {
          "base_uri": "https://localhost:8080/"
        },
        "id": "UrtqqEahp8ir",
        "outputId": "14d7fad5-2338-4617-9199-054bd1f9a78b"
      },
      "execution_count": 121,
      "outputs": [
        {
          "output_type": "execute_result",
          "data": {
            "text/plain": [
              "['T-shirt/top',\n",
              " 'Trouser',\n",
              " 'Pullover',\n",
              " 'Dress',\n",
              " 'Coat',\n",
              " 'Sandal',\n",
              " 'Shirt',\n",
              " 'Sneaker',\n",
              " 'Bag',\n",
              " 'Ankle boot']"
            ]
          },
          "metadata": {},
          "execution_count": 121
        }
      ]
    },
    {
      "cell_type": "code",
      "source": [
        "train_one_sample = train_data.take(1)\n",
        "train_one_sample"
      ],
      "metadata": {
        "colab": {
          "base_uri": "https://localhost:8080/"
        },
        "id": "u7H9WTrQsCdT",
        "outputId": "380ce3b2-1e32-4c70-972c-d1afc7be18e8"
      },
      "execution_count": 122,
      "outputs": [
        {
          "output_type": "execute_result",
          "data": {
            "text/plain": [
              "<_TakeDataset element_spec=(TensorSpec(shape=(28, 28, 1), dtype=tf.uint8, name=None), TensorSpec(shape=(), dtype=tf.int64, name=None))>"
            ]
          },
          "metadata": {},
          "execution_count": 122
        }
      ]
    },
    {
      "cell_type": "code",
      "source": [
        "for img, label in train_one_sample:\n",
        "  print(f\"\"\"\n",
        "  Image shape: {img.shape}\n",
        "  Image_datatype: {img.dtype}\n",
        "  Target class from fashion_mnist: {label}\n",
        "  class_name: {class_names[label.numpy()]}\n",
        "        \"\"\")"
      ],
      "metadata": {
        "colab": {
          "base_uri": "https://localhost:8080/"
        },
        "id": "VHJrAOOyv-uc",
        "outputId": "3ff4ed49-df67-42bb-be6a-742678034b82"
      },
      "execution_count": 123,
      "outputs": [
        {
          "output_type": "stream",
          "name": "stdout",
          "text": [
            "\n",
            "  Image shape: (28, 28, 1)\n",
            "  Image_datatype: <dtype: 'uint8'>\n",
            "  Target class from fashion_mnist: 2\n",
            "  class_name: Pullover\n",
            "        \n"
          ]
        }
      ]
    },
    {
      "cell_type": "code",
      "source": [
        "img"
      ],
      "metadata": {
        "colab": {
          "base_uri": "https://localhost:8080/"
        },
        "id": "s1lKbj3HzuoL",
        "outputId": "22eebcb2-4adc-45d7-8423-180982c27e98"
      },
      "execution_count": 124,
      "outputs": [
        {
          "output_type": "execute_result",
          "data": {
            "text/plain": [
              "<tf.Tensor: shape=(28, 28, 1), dtype=uint8, numpy=\n",
              "array([[[  0],\n",
              "        [  0],\n",
              "        [  0],\n",
              "        [  0],\n",
              "        [  0],\n",
              "        [  0],\n",
              "        [  0],\n",
              "        [  0],\n",
              "        [  0],\n",
              "        [ 18],\n",
              "        [ 77],\n",
              "        [227],\n",
              "        [227],\n",
              "        [208],\n",
              "        [210],\n",
              "        [225],\n",
              "        [216],\n",
              "        [ 85],\n",
              "        [ 32],\n",
              "        [  0],\n",
              "        [  0],\n",
              "        [  0],\n",
              "        [  0],\n",
              "        [  0],\n",
              "        [  0],\n",
              "        [  0],\n",
              "        [  0],\n",
              "        [  0]],\n",
              "\n",
              "       [[  0],\n",
              "        [  0],\n",
              "        [  0],\n",
              "        [  0],\n",
              "        [  0],\n",
              "        [  0],\n",
              "        [  0],\n",
              "        [ 61],\n",
              "        [100],\n",
              "        [ 97],\n",
              "        [ 80],\n",
              "        [ 57],\n",
              "        [117],\n",
              "        [227],\n",
              "        [238],\n",
              "        [115],\n",
              "        [ 49],\n",
              "        [ 78],\n",
              "        [106],\n",
              "        [108],\n",
              "        [ 71],\n",
              "        [  0],\n",
              "        [  0],\n",
              "        [  0],\n",
              "        [  0],\n",
              "        [  0],\n",
              "        [  0],\n",
              "        [  0]],\n",
              "\n",
              "       [[  0],\n",
              "        [  0],\n",
              "        [  0],\n",
              "        [  0],\n",
              "        [  0],\n",
              "        [  0],\n",
              "        [ 81],\n",
              "        [105],\n",
              "        [ 80],\n",
              "        [ 69],\n",
              "        [ 72],\n",
              "        [ 64],\n",
              "        [ 44],\n",
              "        [ 21],\n",
              "        [ 13],\n",
              "        [ 44],\n",
              "        [ 69],\n",
              "        [ 75],\n",
              "        [ 75],\n",
              "        [ 80],\n",
              "        [114],\n",
              "        [ 80],\n",
              "        [  0],\n",
              "        [  0],\n",
              "        [  0],\n",
              "        [  0],\n",
              "        [  0],\n",
              "        [  0]],\n",
              "\n",
              "       [[  0],\n",
              "        [  0],\n",
              "        [  0],\n",
              "        [  0],\n",
              "        [  0],\n",
              "        [ 26],\n",
              "        [ 92],\n",
              "        [ 69],\n",
              "        [ 68],\n",
              "        [ 75],\n",
              "        [ 75],\n",
              "        [ 71],\n",
              "        [ 74],\n",
              "        [ 83],\n",
              "        [ 75],\n",
              "        [ 77],\n",
              "        [ 78],\n",
              "        [ 74],\n",
              "        [ 74],\n",
              "        [ 83],\n",
              "        [ 77],\n",
              "        [108],\n",
              "        [ 34],\n",
              "        [  0],\n",
              "        [  0],\n",
              "        [  0],\n",
              "        [  0],\n",
              "        [  0]],\n",
              "\n",
              "       [[  0],\n",
              "        [  0],\n",
              "        [  0],\n",
              "        [  0],\n",
              "        [  0],\n",
              "        [ 55],\n",
              "        [ 92],\n",
              "        [ 69],\n",
              "        [ 74],\n",
              "        [ 74],\n",
              "        [ 71],\n",
              "        [ 71],\n",
              "        [ 77],\n",
              "        [ 69],\n",
              "        [ 66],\n",
              "        [ 75],\n",
              "        [ 74],\n",
              "        [ 77],\n",
              "        [ 80],\n",
              "        [ 80],\n",
              "        [ 78],\n",
              "        [ 94],\n",
              "        [ 63],\n",
              "        [  0],\n",
              "        [  0],\n",
              "        [  0],\n",
              "        [  0],\n",
              "        [  0]],\n",
              "\n",
              "       [[  0],\n",
              "        [  0],\n",
              "        [  0],\n",
              "        [  0],\n",
              "        [  0],\n",
              "        [ 63],\n",
              "        [ 95],\n",
              "        [ 66],\n",
              "        [ 68],\n",
              "        [ 72],\n",
              "        [ 72],\n",
              "        [ 69],\n",
              "        [ 72],\n",
              "        [ 74],\n",
              "        [ 74],\n",
              "        [ 74],\n",
              "        [ 75],\n",
              "        [ 75],\n",
              "        [ 77],\n",
              "        [ 80],\n",
              "        [ 77],\n",
              "        [106],\n",
              "        [ 61],\n",
              "        [  0],\n",
              "        [  0],\n",
              "        [  0],\n",
              "        [  0],\n",
              "        [  0]],\n",
              "\n",
              "       [[  0],\n",
              "        [  0],\n",
              "        [  0],\n",
              "        [  0],\n",
              "        [  0],\n",
              "        [ 80],\n",
              "        [108],\n",
              "        [ 71],\n",
              "        [ 69],\n",
              "        [ 72],\n",
              "        [ 71],\n",
              "        [ 69],\n",
              "        [ 72],\n",
              "        [ 75],\n",
              "        [ 75],\n",
              "        [ 72],\n",
              "        [ 72],\n",
              "        [ 75],\n",
              "        [ 78],\n",
              "        [ 72],\n",
              "        [ 85],\n",
              "        [128],\n",
              "        [ 64],\n",
              "        [  0],\n",
              "        [  0],\n",
              "        [  0],\n",
              "        [  0],\n",
              "        [  0]],\n",
              "\n",
              "       [[  0],\n",
              "        [  0],\n",
              "        [  0],\n",
              "        [  0],\n",
              "        [  0],\n",
              "        [ 88],\n",
              "        [120],\n",
              "        [ 75],\n",
              "        [ 74],\n",
              "        [ 77],\n",
              "        [ 75],\n",
              "        [ 72],\n",
              "        [ 77],\n",
              "        [ 74],\n",
              "        [ 74],\n",
              "        [ 77],\n",
              "        [ 78],\n",
              "        [ 83],\n",
              "        [ 83],\n",
              "        [ 66],\n",
              "        [111],\n",
              "        [123],\n",
              "        [ 78],\n",
              "        [  0],\n",
              "        [  0],\n",
              "        [  0],\n",
              "        [  0],\n",
              "        [  0]],\n",
              "\n",
              "       [[  0],\n",
              "        [  0],\n",
              "        [  0],\n",
              "        [  0],\n",
              "        [  0],\n",
              "        [ 85],\n",
              "        [134],\n",
              "        [ 74],\n",
              "        [ 85],\n",
              "        [ 69],\n",
              "        [ 75],\n",
              "        [ 75],\n",
              "        [ 74],\n",
              "        [ 75],\n",
              "        [ 74],\n",
              "        [ 75],\n",
              "        [ 75],\n",
              "        [ 81],\n",
              "        [ 75],\n",
              "        [ 61],\n",
              "        [151],\n",
              "        [115],\n",
              "        [ 91],\n",
              "        [ 12],\n",
              "        [  0],\n",
              "        [  0],\n",
              "        [  0],\n",
              "        [  0]],\n",
              "\n",
              "       [[  0],\n",
              "        [  0],\n",
              "        [  0],\n",
              "        [  0],\n",
              "        [ 10],\n",
              "        [ 85],\n",
              "        [153],\n",
              "        [ 83],\n",
              "        [ 80],\n",
              "        [ 68],\n",
              "        [ 77],\n",
              "        [ 75],\n",
              "        [ 74],\n",
              "        [ 75],\n",
              "        [ 74],\n",
              "        [ 75],\n",
              "        [ 77],\n",
              "        [ 80],\n",
              "        [ 68],\n",
              "        [ 61],\n",
              "        [162],\n",
              "        [122],\n",
              "        [ 78],\n",
              "        [  6],\n",
              "        [  0],\n",
              "        [  0],\n",
              "        [  0],\n",
              "        [  0]],\n",
              "\n",
              "       [[  0],\n",
              "        [  0],\n",
              "        [  0],\n",
              "        [  0],\n",
              "        [ 30],\n",
              "        [ 75],\n",
              "        [154],\n",
              "        [ 85],\n",
              "        [ 80],\n",
              "        [ 71],\n",
              "        [ 80],\n",
              "        [ 72],\n",
              "        [ 77],\n",
              "        [ 75],\n",
              "        [ 75],\n",
              "        [ 77],\n",
              "        [ 78],\n",
              "        [ 77],\n",
              "        [ 75],\n",
              "        [ 49],\n",
              "        [191],\n",
              "        [132],\n",
              "        [ 72],\n",
              "        [ 15],\n",
              "        [  0],\n",
              "        [  0],\n",
              "        [  0],\n",
              "        [  0]],\n",
              "\n",
              "       [[  0],\n",
              "        [  0],\n",
              "        [  0],\n",
              "        [  0],\n",
              "        [ 58],\n",
              "        [ 66],\n",
              "        [174],\n",
              "        [115],\n",
              "        [ 66],\n",
              "        [ 77],\n",
              "        [ 80],\n",
              "        [ 72],\n",
              "        [ 78],\n",
              "        [ 75],\n",
              "        [ 77],\n",
              "        [ 78],\n",
              "        [ 78],\n",
              "        [ 77],\n",
              "        [ 66],\n",
              "        [ 49],\n",
              "        [222],\n",
              "        [131],\n",
              "        [ 77],\n",
              "        [ 37],\n",
              "        [  0],\n",
              "        [  0],\n",
              "        [  0],\n",
              "        [  0]],\n",
              "\n",
              "       [[  0],\n",
              "        [  0],\n",
              "        [  0],\n",
              "        [  0],\n",
              "        [ 69],\n",
              "        [ 55],\n",
              "        [179],\n",
              "        [139],\n",
              "        [ 55],\n",
              "        [ 92],\n",
              "        [ 74],\n",
              "        [ 74],\n",
              "        [ 78],\n",
              "        [ 74],\n",
              "        [ 78],\n",
              "        [ 77],\n",
              "        [ 75],\n",
              "        [ 80],\n",
              "        [ 64],\n",
              "        [ 55],\n",
              "        [242],\n",
              "        [111],\n",
              "        [ 95],\n",
              "        [ 44],\n",
              "        [  0],\n",
              "        [  0],\n",
              "        [  0],\n",
              "        [  0]],\n",
              "\n",
              "       [[  0],\n",
              "        [  0],\n",
              "        [  0],\n",
              "        [  0],\n",
              "        [ 74],\n",
              "        [ 57],\n",
              "        [159],\n",
              "        [180],\n",
              "        [ 55],\n",
              "        [ 92],\n",
              "        [ 64],\n",
              "        [ 72],\n",
              "        [ 74],\n",
              "        [ 74],\n",
              "        [ 77],\n",
              "        [ 75],\n",
              "        [ 77],\n",
              "        [ 78],\n",
              "        [ 55],\n",
              "        [ 66],\n",
              "        [255],\n",
              "        [ 97],\n",
              "        [108],\n",
              "        [ 49],\n",
              "        [  0],\n",
              "        [  0],\n",
              "        [  0],\n",
              "        [  0]],\n",
              "\n",
              "       [[  0],\n",
              "        [  0],\n",
              "        [  0],\n",
              "        [  0],\n",
              "        [ 74],\n",
              "        [ 66],\n",
              "        [145],\n",
              "        [153],\n",
              "        [ 72],\n",
              "        [ 83],\n",
              "        [ 58],\n",
              "        [ 78],\n",
              "        [ 77],\n",
              "        [ 75],\n",
              "        [ 75],\n",
              "        [ 75],\n",
              "        [ 72],\n",
              "        [ 80],\n",
              "        [ 30],\n",
              "        [132],\n",
              "        [255],\n",
              "        [ 37],\n",
              "        [122],\n",
              "        [ 60],\n",
              "        [  0],\n",
              "        [  0],\n",
              "        [  0],\n",
              "        [  0]],\n",
              "\n",
              "       [[  0],\n",
              "        [  0],\n",
              "        [  0],\n",
              "        [  0],\n",
              "        [ 80],\n",
              "        [ 69],\n",
              "        [142],\n",
              "        [180],\n",
              "        [142],\n",
              "        [ 57],\n",
              "        [ 64],\n",
              "        [ 78],\n",
              "        [ 74],\n",
              "        [ 75],\n",
              "        [ 75],\n",
              "        [ 75],\n",
              "        [ 72],\n",
              "        [ 85],\n",
              "        [ 21],\n",
              "        [185],\n",
              "        [227],\n",
              "        [ 37],\n",
              "        [143],\n",
              "        [ 63],\n",
              "        [  0],\n",
              "        [  0],\n",
              "        [  0],\n",
              "        [  0]],\n",
              "\n",
              "       [[  0],\n",
              "        [  0],\n",
              "        [  0],\n",
              "        [  0],\n",
              "        [ 83],\n",
              "        [ 71],\n",
              "        [136],\n",
              "        [194],\n",
              "        [126],\n",
              "        [ 46],\n",
              "        [ 69],\n",
              "        [ 75],\n",
              "        [ 72],\n",
              "        [ 75],\n",
              "        [ 75],\n",
              "        [ 75],\n",
              "        [ 74],\n",
              "        [ 78],\n",
              "        [ 38],\n",
              "        [139],\n",
              "        [185],\n",
              "        [ 60],\n",
              "        [151],\n",
              "        [ 58],\n",
              "        [  0],\n",
              "        [  0],\n",
              "        [  0],\n",
              "        [  0]],\n",
              "\n",
              "       [[  0],\n",
              "        [  0],\n",
              "        [  0],\n",
              "        [  4],\n",
              "        [ 81],\n",
              "        [ 74],\n",
              "        [145],\n",
              "        [177],\n",
              "        [ 78],\n",
              "        [ 49],\n",
              "        [ 74],\n",
              "        [ 77],\n",
              "        [ 75],\n",
              "        [ 75],\n",
              "        [ 75],\n",
              "        [ 75],\n",
              "        [ 74],\n",
              "        [ 72],\n",
              "        [ 63],\n",
              "        [ 80],\n",
              "        [156],\n",
              "        [117],\n",
              "        [153],\n",
              "        [ 55],\n",
              "        [  0],\n",
              "        [  0],\n",
              "        [  0],\n",
              "        [  0]],\n",
              "\n",
              "       [[  0],\n",
              "        [  0],\n",
              "        [  0],\n",
              "        [ 10],\n",
              "        [ 80],\n",
              "        [ 72],\n",
              "        [157],\n",
              "        [163],\n",
              "        [ 61],\n",
              "        [ 55],\n",
              "        [ 75],\n",
              "        [ 77],\n",
              "        [ 75],\n",
              "        [ 77],\n",
              "        [ 75],\n",
              "        [ 75],\n",
              "        [ 75],\n",
              "        [ 77],\n",
              "        [ 71],\n",
              "        [ 60],\n",
              "        [ 98],\n",
              "        [156],\n",
              "        [132],\n",
              "        [ 58],\n",
              "        [  0],\n",
              "        [  0],\n",
              "        [  0],\n",
              "        [  0]],\n",
              "\n",
              "       [[  0],\n",
              "        [  0],\n",
              "        [  0],\n",
              "        [ 13],\n",
              "        [ 77],\n",
              "        [ 74],\n",
              "        [157],\n",
              "        [143],\n",
              "        [ 43],\n",
              "        [ 61],\n",
              "        [ 72],\n",
              "        [ 75],\n",
              "        [ 77],\n",
              "        [ 75],\n",
              "        [ 74],\n",
              "        [ 77],\n",
              "        [ 77],\n",
              "        [ 75],\n",
              "        [ 71],\n",
              "        [ 58],\n",
              "        [ 80],\n",
              "        [157],\n",
              "        [120],\n",
              "        [ 66],\n",
              "        [  0],\n",
              "        [  0],\n",
              "        [  0],\n",
              "        [  0]],\n",
              "\n",
              "       [[  0],\n",
              "        [  0],\n",
              "        [  0],\n",
              "        [ 18],\n",
              "        [ 81],\n",
              "        [ 74],\n",
              "        [156],\n",
              "        [114],\n",
              "        [ 35],\n",
              "        [ 72],\n",
              "        [ 71],\n",
              "        [ 75],\n",
              "        [ 78],\n",
              "        [ 72],\n",
              "        [ 66],\n",
              "        [ 80],\n",
              "        [ 78],\n",
              "        [ 77],\n",
              "        [ 75],\n",
              "        [ 64],\n",
              "        [ 63],\n",
              "        [165],\n",
              "        [119],\n",
              "        [ 68],\n",
              "        [  0],\n",
              "        [  0],\n",
              "        [  0],\n",
              "        [  0]],\n",
              "\n",
              "       [[  0],\n",
              "        [  0],\n",
              "        [  0],\n",
              "        [ 23],\n",
              "        [ 85],\n",
              "        [ 81],\n",
              "        [177],\n",
              "        [ 57],\n",
              "        [ 52],\n",
              "        [ 77],\n",
              "        [ 71],\n",
              "        [ 78],\n",
              "        [ 80],\n",
              "        [ 72],\n",
              "        [ 75],\n",
              "        [ 74],\n",
              "        [ 77],\n",
              "        [ 77],\n",
              "        [ 75],\n",
              "        [ 64],\n",
              "        [ 37],\n",
              "        [173],\n",
              "        [ 95],\n",
              "        [ 72],\n",
              "        [  0],\n",
              "        [  0],\n",
              "        [  0],\n",
              "        [  0]],\n",
              "\n",
              "       [[  0],\n",
              "        [  0],\n",
              "        [  0],\n",
              "        [ 26],\n",
              "        [ 81],\n",
              "        [ 86],\n",
              "        [160],\n",
              "        [ 20],\n",
              "        [ 75],\n",
              "        [ 77],\n",
              "        [ 77],\n",
              "        [ 80],\n",
              "        [ 78],\n",
              "        [ 80],\n",
              "        [ 89],\n",
              "        [ 78],\n",
              "        [ 81],\n",
              "        [ 83],\n",
              "        [ 80],\n",
              "        [ 74],\n",
              "        [ 20],\n",
              "        [177],\n",
              "        [ 77],\n",
              "        [ 74],\n",
              "        [  0],\n",
              "        [  0],\n",
              "        [  0],\n",
              "        [  0]],\n",
              "\n",
              "       [[  0],\n",
              "        [  0],\n",
              "        [  0],\n",
              "        [ 49],\n",
              "        [ 77],\n",
              "        [ 91],\n",
              "        [200],\n",
              "        [  0],\n",
              "        [ 83],\n",
              "        [ 95],\n",
              "        [ 86],\n",
              "        [ 88],\n",
              "        [ 88],\n",
              "        [ 89],\n",
              "        [ 88],\n",
              "        [ 89],\n",
              "        [ 88],\n",
              "        [ 83],\n",
              "        [ 89],\n",
              "        [ 86],\n",
              "        [  0],\n",
              "        [191],\n",
              "        [ 78],\n",
              "        [ 80],\n",
              "        [ 24],\n",
              "        [  0],\n",
              "        [  0],\n",
              "        [  0]],\n",
              "\n",
              "       [[  0],\n",
              "        [  0],\n",
              "        [  0],\n",
              "        [ 54],\n",
              "        [ 71],\n",
              "        [108],\n",
              "        [165],\n",
              "        [  0],\n",
              "        [ 24],\n",
              "        [ 57],\n",
              "        [ 52],\n",
              "        [ 57],\n",
              "        [ 60],\n",
              "        [ 60],\n",
              "        [ 60],\n",
              "        [ 63],\n",
              "        [ 63],\n",
              "        [ 77],\n",
              "        [ 89],\n",
              "        [ 52],\n",
              "        [  0],\n",
              "        [211],\n",
              "        [ 97],\n",
              "        [ 77],\n",
              "        [ 61],\n",
              "        [  0],\n",
              "        [  0],\n",
              "        [  0]],\n",
              "\n",
              "       [[  0],\n",
              "        [  0],\n",
              "        [  0],\n",
              "        [ 68],\n",
              "        [ 91],\n",
              "        [117],\n",
              "        [137],\n",
              "        [  0],\n",
              "        [  0],\n",
              "        [  0],\n",
              "        [  0],\n",
              "        [  0],\n",
              "        [  0],\n",
              "        [  0],\n",
              "        [  0],\n",
              "        [  0],\n",
              "        [  0],\n",
              "        [  0],\n",
              "        [  0],\n",
              "        [  0],\n",
              "        [ 18],\n",
              "        [216],\n",
              "        [ 94],\n",
              "        [ 97],\n",
              "        [ 57],\n",
              "        [  0],\n",
              "        [  0],\n",
              "        [  0]],\n",
              "\n",
              "       [[  0],\n",
              "        [  0],\n",
              "        [  0],\n",
              "        [ 54],\n",
              "        [115],\n",
              "        [105],\n",
              "        [185],\n",
              "        [  0],\n",
              "        [  0],\n",
              "        [  1],\n",
              "        [  0],\n",
              "        [  0],\n",
              "        [  0],\n",
              "        [  0],\n",
              "        [  0],\n",
              "        [  0],\n",
              "        [  0],\n",
              "        [  0],\n",
              "        [  0],\n",
              "        [  0],\n",
              "        [  0],\n",
              "        [153],\n",
              "        [ 78],\n",
              "        [106],\n",
              "        [ 37],\n",
              "        [  0],\n",
              "        [  0],\n",
              "        [  0]],\n",
              "\n",
              "       [[  0],\n",
              "        [  0],\n",
              "        [  0],\n",
              "        [ 18],\n",
              "        [ 61],\n",
              "        [ 41],\n",
              "        [103],\n",
              "        [  0],\n",
              "        [  0],\n",
              "        [  0],\n",
              "        [  0],\n",
              "        [  0],\n",
              "        [  0],\n",
              "        [  0],\n",
              "        [  0],\n",
              "        [  0],\n",
              "        [  0],\n",
              "        [  0],\n",
              "        [  0],\n",
              "        [  0],\n",
              "        [  0],\n",
              "        [106],\n",
              "        [ 47],\n",
              "        [ 69],\n",
              "        [ 23],\n",
              "        [  0],\n",
              "        [  0],\n",
              "        [  0]]], dtype=uint8)>"
            ]
          },
          "metadata": {},
          "execution_count": 124
        }
      ]
    },
    {
      "cell_type": "code",
      "source": [
        "# Finding the minimum and the maximum values in the image\n",
        "tf.reduce_min(img), tf.reduce_max(img)"
      ],
      "metadata": {
        "colab": {
          "base_uri": "https://localhost:8080/"
        },
        "id": "cbl4Lgd3xnOf",
        "outputId": "770c2c91-ff6f-4a9e-b1ce-6b55a45f30b2"
      },
      "execution_count": 125,
      "outputs": [
        {
          "output_type": "execute_result",
          "data": {
            "text/plain": [
              "(<tf.Tensor: shape=(), dtype=uint8, numpy=0>,\n",
              " <tf.Tensor: shape=(), dtype=uint8, numpy=255>)"
            ]
          },
          "metadata": {},
          "execution_count": 125
        }
      ]
    },
    {
      "cell_type": "code",
      "source": [
        "# Plotting the image\n",
        "plt.imshow(img)\n",
        "plt.title(class_names[label.numpy()])\n",
        "plt.axis(False)"
      ],
      "metadata": {
        "colab": {
          "base_uri": "https://localhost:8080/",
          "height": 445
        },
        "id": "4PFrnOtezdv9",
        "outputId": "d86da648-35af-4515-e2ed-106f976c7ad5"
      },
      "execution_count": 126,
      "outputs": [
        {
          "output_type": "execute_result",
          "data": {
            "text/plain": [
              "(-0.5, 27.5, 27.5, -0.5)"
            ]
          },
          "metadata": {},
          "execution_count": 126
        },
        {
          "output_type": "display_data",
          "data": {
            "text/plain": [
              "<Figure size 640x480 with 1 Axes>"
            ],
            "image/png": "[encoded data removed]"
          },
          "metadata": {}
        }
      ]
    },
    {
      "cell_type": "code",
      "source": [
        "def preprocess_img(image, label, img_shape=28):\n",
        "  \"\"\"\n",
        "  Takes images and labels\n",
        "  Converts the image from 'uint8' to 'float32' and rescaling the image values to 0-1.\n",
        "  Returns just the images\n",
        "  \"\"\"\n",
        "  image = tf.cast(image, tf.float32)\n",
        "  return image/255."
      ],
      "metadata": {
        "id": "nSF6-dpw0g8K"
      },
      "execution_count": 127,
      "outputs": []
    },
    {
      "cell_type": "code",
      "source": [
        "# Preprocessing the train dataset\n",
        "train_data = train_data.map(map_func=preprocess_img, num_parallel_calls=tf.data.AUTOTUNE)\n",
        "\n",
        "# Shuffling the train dataset, making batches of 128 and prefetch(loading the dataset faster)\n",
        "train_data = train_data.shuffle(buffer_size=6000).batch(batch_size=128).prefetch(buffer_size=tf.data.AUTOTUNE)\n",
        "\n",
        "# Preprocessing the test dataset\n",
        "test_data = test_data.map(map_func=preprocess_img, num_parallel_calls=tf.data.AUTOTUNE)\n",
        "\n",
        "# Shuffling the test dataset, making batches of 128 and prefetch(loading the dataset faster)\n",
        "test_data = test_data.shuffle(buffer_size=1000).batch(batch_size=128).prefetch(buffer_size=tf.data.AUTOTUNE)\n"
      ],
      "metadata": {
        "id": "asqCotlQ17-o"
      },
      "execution_count": 128,
      "outputs": []
    },
    {
      "cell_type": "markdown",
      "source": [
        "### Till here we have preprocessed our images and removed the labels from the dataset. Now, let's see some random images."
      ],
      "metadata": {
        "id": "4LGOVYLIDVcL"
      }
    },
    {
      "cell_type": "code",
      "source": [
        "train_data"
      ],
      "metadata": {
        "colab": {
          "base_uri": "https://localhost:8080/"
        },
        "id": "lWAWRahR2Fba",
        "outputId": "872ad8d8-60b3-4a72-eb7b-ba7e7ffd9af6"
      },
      "execution_count": 129,
      "outputs": [
        {
          "output_type": "execute_result",
          "data": {
            "text/plain": [
              "<_PrefetchDataset element_spec=TensorSpec(shape=(None, 28, 28, 1), dtype=tf.float32, name=None)>"
            ]
          },
          "metadata": {},
          "execution_count": 129
        }
      ]
    },
    {
      "cell_type": "code",
      "source": [
        "# plotting some random images\n",
        "random_imgs = train_data.take(1)\n",
        "fig, ax = plt.subplots(nrows=1, ncols=4, figsize=(8, 8))\n",
        "for batch in random_imgs:\n",
        "  for j, img in enumerate(batch[:4]):\n",
        "    ax[j].imshow(img)\n",
        "    ax[j].axis(False)"
      ],
      "metadata": {
        "colab": {
          "base_uri": "https://localhost:8080/",
          "height": 171
        },
        "id": "Vq4Xy19qDxbv",
        "outputId": "a0ca8d3e-addb-4ac6-bd54-d8667abeb928"
      },
      "execution_count": 130,
      "outputs": [
        {
          "output_type": "display_data",
          "data": {
            "text/plain": [
              "<Figure size 800x800 with 4 Axes>"
            ],
            "image/png": "[encoded data removed]"
          },
          "metadata": {}
        }
      ]
    },
    {
      "cell_type": "markdown",
      "source": [
        "## Building Generator"
      ],
      "metadata": {
        "id": "Kie0VDw9Me_N"
      }
    },
    {
      "cell_type": "code",
      "source": [
        "# Generator\n",
        "def generator():\n",
        "\n",
        "  # Taking input noise\n",
        "  input_noise = Input(shape = (128, ), name = \"Input_Layer\")\n",
        "\n",
        "  # Reshaping to 3D tensor\n",
        "  x = Dense(7*7*128)(input_noise)\n",
        "  x = LeakyReLU(0.2)(x)\n",
        "  x = Reshape((7, 7, 128))(x)\n",
        "\n",
        "  # Upsampling block 1\n",
        "  x = UpSampling2D()(x)\n",
        "  x = Conv2D(128, 5, padding = 'same')(x)\n",
        "  x = LeakyReLU(0.2)(x)\n",
        "\n",
        "  # Upsampling block 2\n",
        "  x = UpSampling2D()(x)\n",
        "  x = Conv2D(128, 5, padding = 'same')(x)\n",
        "  x = LeakyReLU(0.2)(x)\n",
        "\n",
        "  # Convolutional block 1\n",
        "  x = Conv2D(128, 4, padding = 'same')(x)\n",
        "  x = LeakyReLU(0.2)(x)\n",
        "\n",
        "  # Convolutional block 2\n",
        "  x = Conv2D(128, 4, padding = 'same')(x)\n",
        "  x = LeakyReLU(0.2)(x)\n",
        "\n",
        "  # Output Layer\n",
        "  x = Conv2D(1, 4, padding = 'same')(x)\n",
        "  generated_img = Activation('sigmoid', dtype = tf.float32, name = 'generator_sigmoid_float32')(x)\n",
        "\n",
        "  # Model\n",
        "  model = Model(inputs = input_noise, outputs = generated_img, name = \"Generator_Model\")\n",
        "\n",
        "  return model"
      ],
      "metadata": {
        "id": "7DtbOdIqGiW9"
      },
      "execution_count": 131,
      "outputs": []
    },
    {
      "cell_type": "code",
      "source": [
        "# Create generator object\n",
        "generator = generator()\n",
        "generator.summary()"
      ],
      "metadata": {
        "colab": {
          "base_uri": "https://localhost:8080/"
        },
        "id": "d2u3ix0UYeJr",
        "outputId": "892e2f0d-decf-47a9-90b1-e11f87a00bdf"
      },
      "execution_count": 132,
      "outputs": [
        {
          "output_type": "stream",
          "name": "stdout",
          "text": [
            "Model: \"Generator_Model\"\n",
            "_________________________________________________________________\n",
            " Layer (type)                Output Shape              Param #   \n",
            "=================================================================\n",
            " Input_Layer (InputLayer)    [(None, 128)]             0         \n",
            "                                                                 \n",
            " dense_4 (Dense)             (None, 6272)              809088    \n",
            "                                                                 \n",
            " leaky_re_lu_18 (LeakyReLU)  (None, 6272)              0         \n",
            "                                                                 \n",
            " reshape_2 (Reshape)         (None, 7, 7, 128)         0         \n",
            "                                                                 \n",
            " up_sampling2d_4 (UpSamplin  (None, 14, 14, 128)       0         \n",
            " g2D)                                                            \n",
            "                                                                 \n",
            " conv2d_18 (Conv2D)          (None, 14, 14, 128)       409728    \n",
            "                                                                 \n",
            " leaky_re_lu_19 (LeakyReLU)  (None, 14, 14, 128)       0         \n",
            "                                                                 \n",
            " up_sampling2d_5 (UpSamplin  (None, 28, 28, 128)       0         \n",
            " g2D)                                                            \n",
            "                                                                 \n",
            " conv2d_19 (Conv2D)          (None, 28, 28, 128)       409728    \n",
            "                                                                 \n",
            " leaky_re_lu_20 (LeakyReLU)  (None, 28, 28, 128)       0         \n",
            "                                                                 \n",
            " conv2d_20 (Conv2D)          (None, 28, 28, 128)       262272    \n",
            "                                                                 \n",
            " leaky_re_lu_21 (LeakyReLU)  (None, 28, 28, 128)       0         \n",
            "                                                                 \n",
            " conv2d_21 (Conv2D)          (None, 28, 28, 128)       262272    \n",
            "                                                                 \n",
            " leaky_re_lu_22 (LeakyReLU)  (None, 28, 28, 128)       0         \n",
            "                                                                 \n",
            " conv2d_22 (Conv2D)          (None, 28, 28, 1)         2049      \n",
            "                                                                 \n",
            " generator_sigmoid_float32   (None, 28, 28, 1)         0         \n",
            " (Activation)                                                    \n",
            "                                                                 \n",
            "=================================================================\n",
            "Total params: 2155137 (8.22 MB)\n",
            "Trainable params: 2155137 (8.22 MB)\n",
            "Non-trainable params: 0 (0.00 Byte)\n",
            "_________________________________________________________________\n"
          ]
        }
      ]
    },
    {
      "cell_type": "code",
      "source": [
        "# generating random noise [4 images of 128 input noise vector and 1 color channel]\n",
        "imgs = generator.predict(randn(4, 128, 1))\n",
        "fig, ax = plt.subplots(1, 4, figsize=(8, 8))\n",
        "for j, img in enumerate(imgs):\n",
        "  ax[j].imshow(img)\n",
        "  ax[j].axis(False)"
      ],
      "metadata": {
        "colab": {
          "base_uri": "https://localhost:8080/",
          "height": 188
        },
        "id": "IkVG4-KHYtbi",
        "outputId": "8e6f85d1-93d4-4b22-91a2-f7b910385443"
      },
      "execution_count": 134,
      "outputs": [
        {
          "output_type": "stream",
          "name": "stdout",
          "text": [
            "1/1 [==============================] - 0s 31ms/step\n"
          ]
        },
        {
          "output_type": "display_data",
          "data": {
            "text/plain": [
              "<Figure size 800x800 with 4 Axes>"
            ],
            "image/png": "[encoded data removed]"
          },
          "metadata": {}
        }
      ]
    },
    {
      "cell_type": "markdown",
      "source": [
        "### Great!!! Image successfully generated.\n",
        " We are able to generate random fashion images. It's just that they are all full of noise. We can improve the performance of our generator using a discriminator. Let's build one."
      ],
      "metadata": {
        "id": "2blGG8GDd_K1"
      }
    },
    {
      "cell_type": "markdown",
      "source": [
        "## Building Discriminator"
      ],
      "metadata": {
        "id": "SvbFPt7XfKCR"
      }
    },
    {
      "cell_type": "code",
      "source": [
        "def discriminator():\n",
        "\n",
        "  # Taking an image as input\n",
        "  input_img = Input(shape = (28, 28, 1), name = \"Input_Layer\")\n",
        "\n",
        "  # Convolutional block 1\n",
        "  x = Conv2D(32, 5)(input_img)\n",
        "  x = LeakyReLU(0.2)(x)\n",
        "  x = Dropout(0.4)(x)\n",
        "\n",
        "  # Convolutional block 2\n",
        "  x = Conv2D(64, 5)(x)\n",
        "  x = LeakyReLU(0.2)(x)\n",
        "  x = Dropout(0.4)(x)\n",
        "\n",
        "  # Convolutional block 3\n",
        "  x = Conv2D(128, 5)(x)\n",
        "  x = LeakyReLU(0.2)(x)\n",
        "  x = Dropout(0.4)(x)\n",
        "\n",
        "  # Convolutional block 4\n",
        "  x = Conv2D(256, 5)(x)\n",
        "  x = LeakyReLU(0.2)(x)\n",
        "  x = Dropout(0.4)(x)\n",
        "\n",
        "  # Flatten Layer\n",
        "  x = Flatten()(x)\n",
        "  x = Dropout(0.4)(x)\n",
        "\n",
        "  # Output Layer\n",
        "  x = Dense(1)(x)\n",
        "  output = Activation(\"sigmoid\", dtype = tf.float32, name = \"discriminator_sigmoid_float32\")(x)\n",
        "\n",
        "  # Model\n",
        "  model = Model(inputs = input_img, outputs = output, name = \"Discriminator_Model\")\n",
        "\n",
        "  return model"
      ],
      "metadata": {
        "id": "GHFTIE33b7xP"
      },
      "execution_count": 135,
      "outputs": []
    },
    {
      "cell_type": "code",
      "source": [
        "# Creating discriminator object\n",
        "discriminator = discriminator()\n",
        "discriminator.summary()"
      ],
      "metadata": {
        "colab": {
          "base_uri": "https://localhost:8080/"
        },
        "id": "98ZbjxqIih3B",
        "outputId": "6932cc61-391a-43da-c9d2-aad44b3d7f8a"
      },
      "execution_count": 136,
      "outputs": [
        {
          "output_type": "stream",
          "name": "stdout",
          "text": [
            "Model: \"Discriminator_Model\"\n",
            "_________________________________________________________________\n",
            " Layer (type)                Output Shape              Param #   \n",
            "=================================================================\n",
            " Input_Layer (InputLayer)    [(None, 28, 28, 1)]       0         \n",
            "                                                                 \n",
            " conv2d_23 (Conv2D)          (None, 24, 24, 32)        832       \n",
            "                                                                 \n",
            " leaky_re_lu_23 (LeakyReLU)  (None, 24, 24, 32)        0         \n",
            "                                                                 \n",
            " dropout_10 (Dropout)        (None, 24, 24, 32)        0         \n",
            "                                                                 \n",
            " conv2d_24 (Conv2D)          (None, 20, 20, 64)        51264     \n",
            "                                                                 \n",
            " leaky_re_lu_24 (LeakyReLU)  (None, 20, 20, 64)        0         \n",
            "                                                                 \n",
            " dropout_11 (Dropout)        (None, 20, 20, 64)        0         \n",
            "                                                                 \n",
            " conv2d_25 (Conv2D)          (None, 16, 16, 128)       204928    \n",
            "                                                                 \n",
            " leaky_re_lu_25 (LeakyReLU)  (None, 16, 16, 128)       0         \n",
            "                                                                 \n",
            " dropout_12 (Dropout)        (None, 16, 16, 128)       0         \n",
            "                                                                 \n",
            " conv2d_26 (Conv2D)          (None, 12, 12, 256)       819456    \n",
            "                                                                 \n",
            " leaky_re_lu_26 (LeakyReLU)  (None, 12, 12, 256)       0         \n",
            "                                                                 \n",
            " dropout_13 (Dropout)        (None, 12, 12, 256)       0         \n",
            "                                                                 \n",
            " flatten_2 (Flatten)         (None, 36864)             0         \n",
            "                                                                 \n",
            " dropout_14 (Dropout)        (None, 36864)             0         \n",
            "                                                                 \n",
            " dense_5 (Dense)             (None, 1)                 36865     \n",
            "                                                                 \n",
            " discriminator_sigmoid_floa  (None, 1)                 0         \n",
            " t32 (Activation)                                                \n",
            "                                                                 \n",
            "=================================================================\n",
            "Total params: 1113345 (4.25 MB)\n",
            "Trainable params: 1113345 (4.25 MB)\n",
            "Non-trainable params: 0 (0.00 Byte)\n",
            "_________________________________________________________________\n"
          ]
        }
      ]
    },
    {
      "cell_type": "code",
      "source": [
        "discriminator.predict(tf.expand_dims(img, axis=0))"
      ],
      "metadata": {
        "colab": {
          "base_uri": "https://localhost:8080/"
        },
        "id": "mbjDyWRB7feD",
        "outputId": "97adab56-86f1-40c1-c584-a83264142b69"
      },
      "execution_count": 138,
      "outputs": [
        {
          "output_type": "stream",
          "name": "stdout",
          "text": [
            "1/1 [==============================] - 0s 29ms/step\n"
          ]
        },
        {
          "output_type": "execute_result",
          "data": {
            "text/plain": [
              "array([[0.5049475]], dtype=float32)"
            ]
          },
          "metadata": {},
          "execution_count": 138
        }
      ]
    },
    {
      "cell_type": "markdown",
      "source": [
        "### So, the discriminator predicted an image generated by the generator.\n",
        "With a prediction of approximately 0.516, the model is assigning a probability of around 51.6% to the input image being a fake sample.\n",
        "\n",
        "This indicates that the model is not so sure of the image of being a real/fake sample.\n",
        "\n",
        "This is due as it's incomplete training.\n",
        "So, Let's train the models."
      ],
      "metadata": {
        "id": "BgcovLnQ9x8d"
      }
    },
    {
      "cell_type": "markdown",
      "source": [
        "## Training GAN"
      ],
      "metadata": {
        "id": "ML7VDBbL-6ot"
      }
    },
    {
      "cell_type": "markdown",
      "source": [
        "### Setting up losses and optimizers."
      ],
      "metadata": {
        "id": "Z4Cr8ljQ_E1a"
      }
    },
    {
      "cell_type": "code",
      "source": [
        "# Optimizers and loss functions\n",
        "generator_optimizer = Adam(learning_rate = 0.0001)\n",
        "discriminator_optimizer = Adam(learning_rate = 0.0001)\n",
        "\n",
        "generator_loss = BinaryCrossentropy()\n",
        "discriminator_loss = BinaryCrossentropy()"
      ],
      "metadata": {
        "id": "Ws5S09SX8MIq"
      },
      "execution_count": 195,
      "outputs": []
    },
    {
      "cell_type": "code",
      "source": [
        "# Inheriting additional functionalities from Model class in keras\n",
        "class GAN(Model):\n",
        "  def __init__(self, generator, discriminator, *args, **kwargs):\n",
        "    # Passing arguments to the base class\n",
        "    super().__init__(*args, **kwargs)\n",
        "    self.generator = generator\n",
        "    self.discriminator = discriminator\n",
        "\n",
        "  def compile(self, generator_optimizer, discriminator_optimizer, generator_loss, discriminator_loss, *args, **kwargs):\n",
        "    # Compiling the model with the base class\n",
        "    super().compile(*args, **kwargs)\n",
        "\n",
        "    # Create attributes for losses and optimizers\n",
        "    self.generator_optimizer = generator_optimizer\n",
        "    self.generator_loss = generator_loss\n",
        "    self.discriminator_optimizer = discriminator_optimizer\n",
        "    self.discriminator_loss = discriminator_loss\n",
        "\n",
        "  def call(self, inputs, training = False, *args, **kwargs):\n",
        "    # Call method for generating images during inference\n",
        "    generated_imgs = self.generator(tf.random.normal((1,128)), training)\n",
        "    return generated_imgs\n",
        "\n",
        "  def train_step(self, batch):\n",
        "    # Getting real data from dataset and generating fake images from generator[128- batch_size, 128-input_noise_vector, 1-color_channel]\n",
        "    real_images = batch\n",
        "    fake_images = self.generator(tf.random.normal((128, 128, 1)), training = False)\n",
        "\n",
        "    # Training the discriminator\n",
        "    with tf.GradientTape() as discriminator_tape:\n",
        "      # Passing the real and the fake images to the discriminator\n",
        "      y_pred_real = self.discriminator(real_images, training = True)\n",
        "      y_pred_fake = self.discriminator(fake_images, training = True)\n",
        "      y_pred_real_fake = tf.concat([y_pred_real, y_pred_fake], axis = 0)\n",
        "\n",
        "      # Creating true labels(1 -> real images and 0 -> fake images)\n",
        "      y_real_fake = tf.concat([tf.zeros_like(y_pred_real), tf.ones_like(y_pred_fake)], axis = 0)\n",
        "\n",
        "      # Adding some noise to the true labels\n",
        "      noise_real = 0.15 * tf.random.uniform(tf.shape(y_pred_real), dtype = tf.float32)\n",
        "      noise_fake = - 0.15 * tf.random.uniform(tf.shape(y_pred_fake), dtype = tf.float32)\n",
        "      y_real_fake += tf.concat([noise_real, noise_fake], axis = 0)\n",
        "\n",
        "      # Calculating loss using BINARY CROSS ENTROPY\n",
        "      total_discriminator_loss = self.discriminator_loss(y_real_fake, y_pred_real_fake)\n",
        "\n",
        "    # Applying back propagation for discriminator\n",
        "    discriminator_gradient = discriminator_tape.gradient(total_discriminator_loss, self.discriminator.trainable_variables)\n",
        "    self.discriminator_optimizer.apply_gradients(zip(discriminator_gradient, self.discriminator.trainable_variables))\n",
        "\n",
        "\n",
        "    # Training the generator\n",
        "    with tf.GradientTape() as generator_tape:\n",
        "      # Creating random noise and passing it to the generator\n",
        "      random_input = tf.random.normal((128, 128, 1))\n",
        "      generated_img = self.generator(random_input, training = True)\n",
        "\n",
        "      # Getting predicted labels using the discriminator\n",
        "      predicted_labels = self.discriminator(generated_img, training = False)\n",
        "\n",
        "      # Calculating loss for the generator\n",
        "      total_generator_loss = self.generator_loss(tf.zeros_like(predicted_labels), predicted_labels)\n",
        "\n",
        "    # Applying back propagation for generator\n",
        "    generator_gradient = generator_tape.gradient(total_generator_loss, self.generator.trainable_variables)\n",
        "    self.generator_optimizer.apply_gradients(zip(generator_gradient, self.generator.trainable_variables))\n",
        "\n",
        "    return {\"discriminator_loss\": total_discriminator_loss, \"generator_loss\": total_generator_loss}"
      ],
      "metadata": {
        "id": "O78VFunm_-er"
      },
      "execution_count": 196,
      "outputs": []
    },
    {
      "cell_type": "code",
      "source": [
        "# Creating instance of the GAN model\n",
        "fashion_gan = GAN(generator, discriminator)"
      ],
      "metadata": {
        "id": "9kCODEcTs8uL"
      },
      "execution_count": 197,
      "outputs": []
    },
    {
      "cell_type": "code",
      "source": [
        "# Compile the model\n",
        "fashion_gan.compile(generator_optimizer, discriminator_optimizer, generator_loss, discriminator_loss)"
      ],
      "metadata": {
        "id": "05ia9dXyt_nq"
      },
      "execution_count": 198,
      "outputs": []
    },
    {
      "cell_type": "markdown",
      "source": [
        "## Creating Callbacks\n"
      ],
      "metadata": {
        "id": "5jO4Ih-tukeh"
      }
    },
    {
      "cell_type": "markdown",
      "source": [
        "### Custom callback"
      ],
      "metadata": {
        "id": "qc_B3XdB6PbN"
      }
    },
    {
      "cell_type": "code",
      "source": [
        "# Creating custom callback class to monitor the performance of our model\n",
        "class CustomCallback(Callback):\n",
        "  def __init__(self, num_img = 4, latent_dim = 128):\n",
        "    self.num_img = num_img\n",
        "    self.latent_dim = latent_dim\n",
        "\n",
        "  def on_epoch_end(self, epoch, logs = None):\n",
        "    # For every 5 epochs, show the generated images\n",
        "    if epoch % 5 == 0:\n",
        "      random_latent_vectors = tf.random.uniform((self.num_img, self.latent_dim, 1))\n",
        "      generated_imgs = self.model.generator(random_latent_vectors)\n",
        "      fig, ax = plt.subplots(nrows = 1, ncols = 4, figsize = (5, 5))\n",
        "      for j, img in enumerate(generated_imgs):\n",
        "        ax[j].imshow(img)\n",
        "        ax[j].axis(False)\n",
        "      plt.show()"
      ],
      "metadata": {
        "id": "s6kHa_eMudMt"
      },
      "execution_count": 199,
      "outputs": []
    },
    {
      "cell_type": "markdown",
      "source": [
        "### Custom callbacks"
      ],
      "metadata": {
        "id": "3L9lh3QC6Ro1"
      }
    },
    {
      "cell_type": "code",
      "source": [
        "# Creating all the necessary callback instances\n",
        "num_img = 4\n",
        "latent_dim = 128\n",
        "\n",
        "# Custom callback\n",
        "custom_callback = CustomCallback(num_img, latent_dim)"
      ],
      "metadata": {
        "id": "-K6Qbcl32s5D"
      },
      "execution_count": 204,
      "outputs": []
    },
    {
      "cell_type": "markdown",
      "source": [
        "### Generator callbacks"
      ],
      "metadata": {
        "id": "RIGAN5_aeX1O"
      }
    },
    {
      "cell_type": "code",
      "source": [
        "# Model Checkpoint callback\n",
        "generator_checkpoint_path = 'generator_model_checkpoint/cp.ckpt'\n",
        "generator_model_checkpoint = tf.keras.callbacks.ModelCheckpoint(generator_checkpoint_path,\n",
        "                                                      monitor = 'generator_loss',\n",
        "                                                      verbose = 0,\n",
        "                                                      save_best_only = True,\n",
        "                                                      save_weights_only = True)\n",
        "\n",
        "# Early stopping call back\n",
        "generator_early_stopping = tf.keras.callbacks.EarlyStopping(monitor = 'generator_loss',\n",
        "                                                  patience = 50)\n",
        "\n",
        "# Reduce learning rate\n",
        "generator_reduce_lr = tf.keras.callbacks.ReduceLROnPlateau(monitor = 'generator_loss',\n",
        "                                                 factor = 0.1,\n",
        "                                                 patience = 10,\n",
        "                                                 verbose = 0,\n",
        "                                                 min_lr = 1e-7)"
      ],
      "metadata": {
        "id": "-m8jp3CBeRlV"
      },
      "execution_count": 205,
      "outputs": []
    },
    {
      "cell_type": "markdown",
      "source": [
        "### Discriminator callbacks"
      ],
      "metadata": {
        "id": "7Z6SjefwebOK"
      }
    },
    {
      "cell_type": "code",
      "source": [
        "# Model Checkpoint callback\n",
        "discriminator_checkpoint_path = 'discriminator_model_checkpoint/cp.ckpt'\n",
        "discriminator_model_checkpoint = tf.keras.callbacks.ModelCheckpoint(discriminator_checkpoint_path,\n",
        "                                                      monitor = 'discriminator_loss',\n",
        "                                                      verbose = 0,\n",
        "                                                      save_best_only = True,\n",
        "                                                      save_weights_only = True)\n",
        "\n",
        "# Early stopping call back\n",
        "discriminator_early_stopping = tf.keras.callbacks.EarlyStopping(monitor = 'discriminator_loss',\n",
        "                                                  patience = 50)\n",
        "\n",
        "# Reduce learning rate\n",
        "discriminator_reduce_lr = tf.keras.callbacks.ReduceLROnPlateau(monitor = 'discriminator_loss',\n",
        "                                                 factor = 0.1,\n",
        "                                                 patience = 10,\n",
        "                                                 verbose = 0,\n",
        "                                                 min_lr = 1e-7)"
      ],
      "metadata": {
        "id": "kSh4txtweHN0"
      },
      "execution_count": 206,
      "outputs": []
    },
    {
      "cell_type": "markdown",
      "source": [
        "## Fitting the model"
      ],
      "metadata": {
        "id": "BEfbS-0i6I_I"
      }
    },
    {
      "cell_type": "code",
      "source": [
        "# Fitting the model\n",
        "history = fashion_gan.fit(train_data,\n",
        "                          epochs = 100,\n",
        "                          steps_per_epoch = len(train_data),\n",
        "                          validation_data = test_data,\n",
        "                          validation_steps = len(test_data),\n",
        "                          callbacks = [custom_callback,\n",
        "                                       generator_model_checkpoint, generator_early_stopping, generator_reduce_lr,\n",
        "                                       discriminator_model_checkpoint, discriminator_early_stopping, discriminator_reduce_lr])"
      ],
      "metadata": {
        "colab": {
          "base_uri": "https://localhost:8080/",
          "height": 1000
        },
        "id": "GB6zQ3tz5zRK",
        "outputId": "dfe7a868-5b58-4db2-849e-91e3dc233540"
      },
      "execution_count": 207,
      "outputs": [
        {
          "output_type": "stream",
          "name": "stdout",
          "text": [
            "Epoch 1/100\n",
            "  6/469 [..............................] - ETA: 43s - discriminator_loss: 0.4747 - generator_loss: 1.3127"
          ]
        },
        {
          "output_type": "stream",
          "name": "stderr",
          "text": [
            "WARNING:tensorflow:Callback method `on_train_batch_end` is slow compared to the batch time (batch time: 0.0479s vs `on_train_batch_end` time: 0.0490s). Check your callbacks.\n"
          ]
        },
        {
          "output_type": "stream",
          "name": "stdout",
          "text": [
            "469/469 [==============================] - ETA: 0s - discriminator_loss: 0.5355 - generator_loss: 1.2952"
          ]
        },
        {
          "output_type": "display_data",
          "data": {
            "text/plain": [
              "<Figure size 500x500 with 4 Axes>"
            ],
            "image/png": "[encoded data removed]"
          },
          "metadata": {}
        },
        {
          "output_type": "stream",
          "name": "stdout",
          "text": [
            "\b\b\b\b\b\b\b\b\b\b\b\b\b\b\b\b\b\b\b\b\b\b\b\b\b\b\b\b\b\b\b\b\b\b\b\b\b\b\b\b\b\b\b\b\b\b\b\b\b\b\b\b\b\b\b\b\b\b\b\b\b\b\b\b\b\b\b\b\b\b\b\b\b\b\b\b\b\b\b\b\b\b\b\b\b\b\b\b\b\b\b\b\b\b\b\b\b\b\b\b\b\b\b\b\r469/469 [==============================] - 87s 184ms/step - discriminator_loss: 0.5350 - generator_loss: 1.2985 - val_loss: 0.0000e+00 - lr: 2.0000e-04\n",
            "Epoch 2/100\n",
            "469/469 [==============================] - 43s 91ms/step - discriminator_loss: 0.5483 - generator_loss: 1.1948 - val_loss: 0.0000e+00 - lr: 2.0000e-04\n",
            "Epoch 3/100\n",
            "469/469 [==============================] - 42s 90ms/step - discriminator_loss: 0.5641 - generator_loss: 1.1826 - val_loss: 0.0000e+00 - lr: 2.0000e-04\n",
            "Epoch 4/100\n",
            "469/469 [==============================] - 42s 90ms/step - discriminator_loss: 0.5751 - generator_loss: 1.0226 - val_loss: 0.0000e+00 - lr: 2.0000e-04\n",
            "Epoch 5/100\n",
            "469/469 [==============================] - 42s 89ms/step - discriminator_loss: 0.5531 - generator_loss: 1.1683 - val_loss: 0.0000e+00 - lr: 2.0000e-04\n",
            "Epoch 6/100\n",
            "469/469 [==============================] - ETA: 0s - discriminator_loss: 0.5695 - generator_loss: 1.1011"
          ]
        },
        {
          "output_type": "display_data",
          "data": {
            "text/plain": [
              "<Figure size 500x500 with 4 Axes>"
            ],
            "image/png": "[encoded data removed]"
          },
          "metadata": {}
        },
        {
          "output_type": "stream",
          "name": "stdout",
          "text": [
            "\b\b\b\b\b\b\b\b\b\b\b\b\b\b\b\b\b\b\b\b\b\b\b\b\b\b\b\b\b\b\b\b\b\b\b\b\b\b\b\b\b\b\b\b\b\b\b\b\b\b\b\b\b\b\b\b\b\b\b\b\b\b\b\b\b\b\b\b\b\b\b\b\b\b\b\b\b\b\b\b\b\b\b\b\b\b\b\b\b\b\b\b\b\b\b\b\b\b\b\b\b\b\b\b\r469/469 [==============================] - 42s 89ms/step - discriminator_loss: 0.5696 - generator_loss: 1.1010 - val_loss: 0.0000e+00 - lr: 2.0000e-04\n",
            "Epoch 7/100\n",
            "469/469 [==============================] - 42s 90ms/step - discriminator_loss: 0.5653 - generator_loss: 1.1251 - val_loss: 0.0000e+00 - lr: 2.0000e-04\n",
            "Epoch 8/100\n",
            "469/469 [==============================] - 42s 90ms/step - discriminator_loss: 0.5897 - generator_loss: 1.0236 - val_loss: 0.0000e+00 - lr: 2.0000e-04\n",
            "Epoch 9/100\n",
            "469/469 [==============================] - 42s 90ms/step - discriminator_loss: 0.5879 - generator_loss: 1.0244 - val_loss: 0.0000e+00 - lr: 2.0000e-04\n",
            "Epoch 10/100\n",
            "469/469 [==============================] - 42s 89ms/step - discriminator_loss: 0.6079 - generator_loss: 0.9788 - val_loss: 0.0000e+00 - lr: 2.0000e-04\n",
            "Epoch 11/100\n",
            "469/469 [==============================] - ETA: 0s - discriminator_loss: 0.6130 - generator_loss: 0.9329"
          ]
        },
        {
          "output_type": "display_data",
          "data": {
            "text/plain": [
              "<Figure size 500x500 with 4 Axes>"
            ],
            "image/png": "[encoded data removed]"
          },
          "metadata": {}
        },
        {
          "output_type": "stream",
          "name": "stdout",
          "text": [
            "\b\b\b\b\b\b\b\b\b\b\b\b\b\b\b\b\b\b\b\b\b\b\b\b\b\b\b\b\b\b\b\b\b\b\b\b\b\b\b\b\b\b\b\b\b\b\b\b\b\b\b\b\b\b\b\b\b\b\b\b\b\b\b\b\b\b\b\b\b\b\b\b\b\b\b\b\b\b\b\b\b\b\b\b\b\b\b\b\b\b\b\b\b\b\b\b\b\b\b\b\b\b\b\b\r469/469 [==============================] - 42s 90ms/step - discriminator_loss: 0.6130 - generator_loss: 0.9330 - val_loss: 0.0000e+00 - lr: 2.0000e-04\n",
            "Epoch 12/100\n",
            "469/469 [==============================] - 42s 89ms/step - discriminator_loss: 0.6235 - generator_loss: 0.8915 - val_loss: 0.0000e+00 - lr: 2.0000e-06\n",
            "Epoch 13/100\n",
            "469/469 [==============================] - 42s 90ms/step - discriminator_loss: 0.6344 - generator_loss: 0.9140 - val_loss: 0.0000e+00 - lr: 2.0000e-06\n",
            "Epoch 14/100\n",
            "469/469 [==============================] - 42s 90ms/step - discriminator_loss: 0.6313 - generator_loss: 0.9248 - val_loss: 0.0000e+00 - lr: 2.0000e-06\n",
            "Epoch 15/100\n",
            "469/469 [==============================] - 43s 90ms/step - discriminator_loss: 0.6410 - generator_loss: 0.8758 - val_loss: 0.0000e+00 - lr: 2.0000e-06\n",
            "Epoch 16/100\n",
            "469/469 [==============================] - ETA: 0s - discriminator_loss: 0.6416 - generator_loss: 0.8963"
          ]
        },
        {
          "output_type": "display_data",
          "data": {
            "text/plain": [
              "<Figure size 500x500 with 4 Axes>"
            ],
            "image/png": "[encoded data removed]"
          },
          "metadata": {}
        },
        {
          "output_type": "stream",
          "name": "stdout",
          "text": [
            "\b\b\b\b\b\b\b\b\b\b\b\b\b\b\b\b\b\b\b\b\b\b\b\b\b\b\b\b\b\b\b\b\b\b\b\b\b\b\b\b\b\b\b\b\b\b\b\b\b\b\b\b\b\b\b\b\b\b\b\b\b\b\b\b\b\b\b\b\b\b\b\b\b\b\b\b\b\b\b\b\b\b\b\b\b\b\b\b\b\b\b\b\b\b\b\b\b\b\b\b\b\b\b\b\r469/469 [==============================] - 42s 90ms/step - discriminator_loss: 0.6417 - generator_loss: 0.8958 - val_loss: 0.0000e+00 - lr: 2.0000e-06\n",
            "Epoch 17/100\n",
            "469/469 [==============================] - 42s 90ms/step - discriminator_loss: 0.6469 - generator_loss: 0.8666 - val_loss: 0.0000e+00 - lr: 2.0000e-06\n",
            "Epoch 18/100\n",
            "469/469 [==============================] - 42s 90ms/step - discriminator_loss: 0.6547 - generator_loss: 0.8454 - val_loss: 0.0000e+00 - lr: 2.0000e-06\n",
            "Epoch 19/100\n",
            "469/469 [==============================] - 42s 89ms/step - discriminator_loss: 0.6441 - generator_loss: 0.8694 - val_loss: 0.0000e+00 - lr: 2.0000e-06\n",
            "Epoch 20/100\n",
            "469/469 [==============================] - 42s 90ms/step - discriminator_loss: 0.6506 - generator_loss: 0.8715 - val_loss: 0.0000e+00 - lr: 2.0000e-06\n",
            "Epoch 21/100\n",
            "469/469 [==============================] - ETA: 0s - discriminator_loss: 0.6559 - generator_loss: 0.8420"
          ]
        },
        {
          "output_type": "display_data",
          "data": {
            "text/plain": [
              "<Figure size 500x500 with 4 Axes>"
            ],
            "image/png": "[encoded data removed]"
          },
          "metadata": {}
        },
        {
          "output_type": "stream",
          "name": "stdout",
          "text": [
            "\b\b\b\b\b\b\b\b\b\b\b\b\b\b\b\b\b\b\b\b\b\b\b\b\b\b\b\b\b\b\b\b\b\b\b\b\b\b\b\b\b\b\b\b\b\b\b\b\b\b\b\b\b\b\b\b\b\b\b\b\b\b\b\b\b\b\b\b\b\b\b\b\b\b\b\b\b\b\b\b\b\b\b\b\b\b\b\b\b\b\b\b\b\b\b\b\b\b\b\b\b\b\b\b\r469/469 [==============================] - 43s 91ms/step - discriminator_loss: 0.6558 - generator_loss: 0.8420 - val_loss: 0.0000e+00 - lr: 2.0000e-06\n",
            "Epoch 22/100\n",
            "469/469 [==============================] - 42s 90ms/step - discriminator_loss: 0.6511 - generator_loss: 0.8675 - val_loss: 0.0000e+00 - lr: 1.0000e-07\n",
            "Epoch 23/100\n",
            "469/469 [==============================] - 42s 90ms/step - discriminator_loss: 0.6562 - generator_loss: 0.8543 - val_loss: 0.0000e+00 - lr: 1.0000e-07\n",
            "Epoch 24/100\n",
            "469/469 [==============================] - 42s 90ms/step - discriminator_loss: 0.6610 - generator_loss: 0.8329 - val_loss: 0.0000e+00 - lr: 1.0000e-07\n",
            "Epoch 25/100\n",
            "469/469 [==============================] - 42s 90ms/step - discriminator_loss: 0.6560 - generator_loss: 0.8562 - val_loss: 0.0000e+00 - lr: 1.0000e-07\n",
            "Epoch 26/100\n",
            "469/469 [==============================] - ETA: 0s - discriminator_loss: 0.6522 - generator_loss: 0.8443"
          ]
        },
        {
          "output_type": "display_data",
          "data": {
            "text/plain": [
              "<Figure size 500x500 with 4 Axes>"
            ],
            "image/png": "[encoded data removed]"
          },
          "metadata": {}
        },
        {
          "output_type": "stream",
          "name": "stdout",
          "text": [
            "\b\b\b\b\b\b\b\b\b\b\b\b\b\b\b\b\b\b\b\b\b\b\b\b\b\b\b\b\b\b\b\b\b\b\b\b\b\b\b\b\b\b\b\b\b\b\b\b\b\b\b\b\b\b\b\b\b\b\b\b\b\b\b\b\b\b\b\b\b\b\b\b\b\b\b\b\b\b\b\b\b\b\b\b\b\b\b\b\b\b\b\b\b\b\b\b\b\b\b\b\b\b\b\b\r469/469 [==============================] - 42s 90ms/step - discriminator_loss: 0.6522 - generator_loss: 0.8441 - val_loss: 0.0000e+00 - lr: 1.0000e-07\n",
            "Epoch 27/100\n",
            "469/469 [==============================] - 43s 90ms/step - discriminator_loss: 0.6606 - generator_loss: 0.8691 - val_loss: 0.0000e+00 - lr: 1.0000e-07\n",
            "Epoch 28/100\n",
            "469/469 [==============================] - 42s 90ms/step - discriminator_loss: 0.6529 - generator_loss: 0.8631 - val_loss: 0.0000e+00 - lr: 1.0000e-07\n",
            "Epoch 29/100\n",
            "469/469 [==============================] - 42s 89ms/step - discriminator_loss: 0.6537 - generator_loss: 0.8577 - val_loss: 0.0000e+00 - lr: 1.0000e-07\n",
            "Epoch 30/100\n",
            "469/469 [==============================] - 42s 90ms/step - discriminator_loss: 0.6661 - generator_loss: 0.8285 - val_loss: 0.0000e+00 - lr: 1.0000e-07\n",
            "Epoch 31/100\n",
            "469/469 [==============================] - ETA: 0s - discriminator_loss: 0.6583 - generator_loss: 0.8514"
          ]
        },
        {
          "output_type": "display_data",
          "data": {
            "text/plain": [
              "<Figure size 500x500 with 4 Axes>"
            ],
            "image/png": "[encoded data removed]"
          },
          "metadata": {}
        },
        {
          "output_type": "stream",
          "name": "stdout",
          "text": [
            "\b\b\b\b\b\b\b\b\b\b\b\b\b\b\b\b\b\b\b\b\b\b\b\b\b\b\b\b\b\b\b\b\b\b\b\b\b\b\b\b\b\b\b\b\b\b\b\b\b\b\b\b\b\b\b\b\b\b\b\b\b\b\b\b\b\b\b\b\b\b\b\b\b\b\b\b\b\b\b\b\b\b\b\b\b\b\b\b\b\b\b\b\b\b\b\b\b\b\b\b\b\b\b\b\r469/469 [==============================] - 42s 90ms/step - discriminator_loss: 0.6584 - generator_loss: 0.8512 - val_loss: 0.0000e+00 - lr: 1.0000e-07\n",
            "Epoch 32/100\n",
            "469/469 [==============================] - 42s 90ms/step - discriminator_loss: 0.6584 - generator_loss: 0.8218 - val_loss: 0.0000e+00 - lr: 1.0000e-07\n",
            "Epoch 33/100\n",
            "469/469 [==============================] - 42s 90ms/step - discriminator_loss: 0.6704 - generator_loss: 0.8043 - val_loss: 0.0000e+00 - lr: 1.0000e-07\n",
            "Epoch 34/100\n",
            "469/469 [==============================] - 42s 89ms/step - discriminator_loss: 0.6574 - generator_loss: 0.8332 - val_loss: 0.0000e+00 - lr: 1.0000e-07\n",
            "Epoch 35/100\n",
            "469/469 [==============================] - 42s 90ms/step - discriminator_loss: 0.6609 - generator_loss: 0.8561 - val_loss: 0.0000e+00 - lr: 1.0000e-07\n",
            "Epoch 36/100\n",
            "469/469 [==============================] - ETA: 0s - discriminator_loss: 0.6651 - generator_loss: 0.8291"
          ]
        },
        {
          "output_type": "display_data",
          "data": {
            "text/plain": [
              "<Figure size 500x500 with 4 Axes>"
            ],
            "image/png": "[encoded data removed]"
          },
          "metadata": {}
        },
        {
          "output_type": "stream",
          "name": "stdout",
          "text": [
            "\b\b\b\b\b\b\b\b\b\b\b\b\b\b\b\b\b\b\b\b\b\b\b\b\b\b\b\b\b\b\b\b\b\b\b\b\b\b\b\b\b\b\b\b\b\b\b\b\b\b\b\b\b\b\b\b\b\b\b\b\b\b\b\b\b\b\b\b\b\b\b\b\b\b\b\b\b\b\b\b\b\b\b\b\b\b\b\b\b\b\b\b\b\b\b\b\b\b\b\b\b\b\b\b\r469/469 [==============================] - 42s 89ms/step - discriminator_loss: 0.6652 - generator_loss: 0.8290 - val_loss: 0.0000e+00 - lr: 1.0000e-07\n",
            "Epoch 37/100\n",
            "469/469 [==============================] - 42s 90ms/step - discriminator_loss: 0.6666 - generator_loss: 0.8029 - val_loss: 0.0000e+00 - lr: 1.0000e-07\n",
            "Epoch 38/100\n",
            "469/469 [==============================] - 42s 89ms/step - discriminator_loss: 0.6668 - generator_loss: 0.8009 - val_loss: 0.0000e+00 - lr: 1.0000e-07\n",
            "Epoch 39/100\n",
            "469/469 [==============================] - 42s 89ms/step - discriminator_loss: 0.6643 - generator_loss: 0.8333 - val_loss: 0.0000e+00 - lr: 1.0000e-07\n",
            "Epoch 40/100\n",
            "469/469 [==============================] - 43s 90ms/step - discriminator_loss: 0.6686 - generator_loss: 0.8298 - val_loss: 0.0000e+00 - lr: 1.0000e-07\n",
            "Epoch 41/100\n",
            "469/469 [==============================] - ETA: 0s - discriminator_loss: 0.6682 - generator_loss: 0.8225"
          ]
        },
        {
          "output_type": "display_data",
          "data": {
            "text/plain": [
              "<Figure size 500x500 with 4 Axes>"
            ],
            "image/png": "[encoded data removed]"
          },
          "metadata": {}
        },
        {
          "output_type": "stream",
          "name": "stdout",
          "text": [
            "\b\b\b\b\b\b\b\b\b\b\b\b\b\b\b\b\b\b\b\b\b\b\b\b\b\b\b\b\b\b\b\b\b\b\b\b\b\b\b\b\b\b\b\b\b\b\b\b\b\b\b\b\b\b\b\b\b\b\b\b\b\b\b\b\b\b\b\b\b\b\b\b\b\b\b\b\b\b\b\b\b\b\b\b\b\b\b\b\b\b\b\b\b\b\b\b\b\b\b\b\b\b\b\b\r469/469 [==============================] - 42s 90ms/step - discriminator_loss: 0.6682 - generator_loss: 0.8223 - val_loss: 0.0000e+00 - lr: 1.0000e-07\n",
            "Epoch 42/100\n",
            "469/469 [==============================] - 42s 89ms/step - discriminator_loss: 0.6649 - generator_loss: 0.8230 - val_loss: 0.0000e+00 - lr: 1.0000e-07\n",
            "Epoch 43/100\n",
            "469/469 [==============================] - 42s 90ms/step - discriminator_loss: 0.6651 - generator_loss: 0.8212 - val_loss: 0.0000e+00 - lr: 1.0000e-07\n",
            "Epoch 44/100\n",
            "469/469 [==============================] - 42s 90ms/step - discriminator_loss: 0.6662 - generator_loss: 0.7891 - val_loss: 0.0000e+00 - lr: 1.0000e-07\n",
            "Epoch 45/100\n",
            "469/469 [==============================] - 42s 90ms/step - discriminator_loss: 0.6594 - generator_loss: 0.8667 - val_loss: 0.0000e+00 - lr: 1.0000e-07\n",
            "Epoch 46/100\n",
            "469/469 [==============================] - ETA: 0s - discriminator_loss: 0.6647 - generator_loss: 0.8148"
          ]
        },
        {
          "output_type": "display_data",
          "data": {
            "text/plain": [
              "<Figure size 500x500 with 4 Axes>"
            ],
            "image/png": "[encoded data removed]"
          },
          "metadata": {}
        },
        {
          "output_type": "stream",
          "name": "stdout",
          "text": [
            "\b\b\b\b\b\b\b\b\b\b\b\b\b\b\b\b\b\b\b\b\b\b\b\b\b\b\b\b\b\b\b\b\b\b\b\b\b\b\b\b\b\b\b\b\b\b\b\b\b\b\b\b\b\b\b\b\b\b\b\b\b\b\b\b\b\b\b\b\b\b\b\b\b\b\b\b\b\b\b\b\b\b\b\b\b\b\b\b\b\b\b\b\b\b\b\b\b\b\b\b\b\b\b\b\r469/469 [==============================] - 42s 89ms/step - discriminator_loss: 0.6647 - generator_loss: 0.8151 - val_loss: 0.0000e+00 - lr: 1.0000e-07\n",
            "Epoch 47/100\n",
            "469/469 [==============================] - 42s 89ms/step - discriminator_loss: 0.6649 - generator_loss: 0.8392 - val_loss: 0.0000e+00 - lr: 1.0000e-07\n",
            "Epoch 48/100\n",
            "469/469 [==============================] - 42s 90ms/step - discriminator_loss: 0.6717 - generator_loss: 0.7852 - val_loss: 0.0000e+00 - lr: 1.0000e-07\n",
            "Epoch 49/100\n",
            "469/469 [==============================] - 42s 90ms/step - discriminator_loss: 0.6716 - generator_loss: 0.7948 - val_loss: 0.0000e+00 - lr: 1.0000e-07\n",
            "Epoch 50/100\n",
            "469/469 [==============================] - 42s 89ms/step - discriminator_loss: 0.6718 - generator_loss: 0.7867 - val_loss: 0.0000e+00 - lr: 1.0000e-07\n",
            "Epoch 51/100\n",
            "469/469 [==============================] - ETA: 0s - discriminator_loss: 0.6709 - generator_loss: 0.7852"
          ]
        },
        {
          "output_type": "display_data",
          "data": {
            "text/plain": [
              "<Figure size 500x500 with 4 Axes>"
            ],
            "image/png": "[encoded data removed]"
          },
          "metadata": {}
        },
        {
          "output_type": "stream",
          "name": "stdout",
          "text": [
            "\b\b\b\b\b\b\b\b\b\b\b\b\b\b\b\b\b\b\b\b\b\b\b\b\b\b\b\b\b\b\b\b\b\b\b\b\b\b\b\b\b\b\b\b\b\b\b\b\b\b\b\b\b\b\b\b\b\b\b\b\b\b\b\b\b\b\b\b\b\b\b\b\b\b\b\b\b\b\b\b\b\b\b\b\b\b\b\b\b\b\b\b\b\b\b\b\b\b\b\b\b\b\b\b\r469/469 [==============================] - 42s 90ms/step - discriminator_loss: 0.6709 - generator_loss: 0.7851 - val_loss: 0.0000e+00 - lr: 1.0000e-07\n"
          ]
        }
      ]
    },
    {
      "cell_type": "markdown",
      "source": [
        "### Results from our generator after training for 51 epochs."
      ],
      "metadata": {
        "id": "zEHme3GmCuDg"
      }
    },
    {
      "cell_type": "code",
      "source": [
        "imgs = generator.predict(tf.random.normal((16, 128, 1)))\n",
        "fig, ax = plt.subplots(nrows = 4, ncols = 4, figsize = (5, 5))\n",
        "plt.title(\"Generated Images\", fontsize = 16, x = -1.7, y = 5)\n",
        "for r in range(4):\n",
        "  for c in range(4):\n",
        "    ax[r][c].imshow(imgs[(r+1)*(c+1)-1])\n",
        "    ax[r][c].axis(\"off\")"
      ],
      "metadata": {
        "id": "NVSFJQ7L661N",
        "colab": {
          "base_uri": "https://localhost:8080/",
          "height": 496
        },
        "outputId": "a57101de-b38a-4a53-f7b9-41a4d16df6cc"
      },
      "execution_count": 222,
      "outputs": [
        {
          "output_type": "stream",
          "name": "stdout",
          "text": [
            "1/1 [==============================] - 0s 20ms/step\n"
          ]
        },
        {
          "output_type": "display_data",
          "data": {
            "text/plain": [
              "<Figure size 500x500 with 16 Axes>"
            ],
            "image/png": "[encoded data removed]"
          },
          "metadata": {}
        }
      ]
    },
    {
      "cell_type": "code",
      "source": [],
      "metadata": {
        "id": "mR7eKAb1NXLn"
      },
      "execution_count": null,
      "outputs": []
    }
  ]
}